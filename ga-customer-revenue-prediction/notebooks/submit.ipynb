{
 "cells": [
  {
   "cell_type": "code",
   "execution_count": 1,
   "metadata": {
    "ExecuteTime": {
     "end_time": "2018-10-04T14:44:00.255390Z",
     "start_time": "2018-10-04T14:43:57.704547Z"
    }
   },
   "outputs": [],
   "source": [
    "import numpy as np\n",
    "import pandas as pd\n",
    "import matplotlib.pyplot as plt\n",
    "import seaborn as sns\n",
    "from sklearn.ensemble import RandomForestRegressor as RFF\n",
    "\n",
    "from pprint import pprint\n"
   ]
  },
  {
   "cell_type": "code",
   "execution_count": 2,
   "metadata": {
    "ExecuteTime": {
     "end_time": "2018-10-04T14:44:03.293648Z",
     "start_time": "2018-10-04T14:44:02.971789Z"
    }
   },
   "outputs": [],
   "source": [
    "import sys\n",
    "sys.path.append('..')\n",
    "\n",
    "from fastai.structured import *"
   ]
  },
  {
   "cell_type": "code",
   "execution_count": null,
   "metadata": {},
   "outputs": [],
   "source": [
    "df_train = pd.read_feather('../data/train')\n",
    "df_test = pd.read_feather('../data/test')"
   ]
  },
  {
   "cell_type": "code",
   "execution_count": null,
   "metadata": {},
   "outputs": [],
   "source": [
    "keep_cols = np.load('../data/keep_cols.npy')\n",
    "keep_cols_train = keep_cols.append('totals_transactionRevenue')\n",
    "\n",
    "df_train = df_train[keep_cols_train]\n",
    "df_test = df_train[keep_cols]"
   ]
  },
  {
   "cell_type": "code",
   "execution_count": null,
   "metadata": {},
   "outputs": [],
   "source": [
    "df_trn, y_trn, nas = proc_df(df_raw, 'totals_transactionRevenue')"
   ]
  },
  {
   "cell_type": "code",
   "execution_count": null,
   "metadata": {},
   "outputs": [],
   "source": [
    "\n",
    "m = RFF(n_jobs=-1,n_estimators=20,oob_score=oob_score)\n",
    "m.fit(X_train, y_train)\n",
    "print_score(m)"
   ]
  },
  {
   "cell_type": "code",
   "execution_count": 4,
   "metadata": {
    "ExecuteTime": {
     "end_time": "2018-10-04T14:44:40.404783Z",
     "start_time": "2018-10-04T14:44:40.395715Z"
    }
   },
   "outputs": [],
   "source": [
    "n_trn = 70000\n",
    "\n",
    "def split_vals(a,n) : return a[:n],a[n:]\n",
    "\n",
    "def split_data(n_trn = 70000,to_keep=None):\n",
    "    global X_train,X_valid,y_train,y_valid,raw_train,raw_valid,df_trn,y_trn\n",
    "    \n",
    "    raw_train, raw_valid = split_vals(df_raw, n_trn)\n",
    "    \n",
    "    df_trn, y_trn, nas = proc_df(df_raw, 'Revenue')\n",
    "    \n",
    "    if to_keep is not None:\n",
    "        df_trn = df_trn[to_keep].copy()\n",
    "    \n",
    "    y_trn = np.log1p(y_trn)\n",
    "    \n",
    "    X_train, X_valid = split_vals(df_trn, n_trn)\n",
    "    y_train, y_valid = split_vals(y_trn, n_trn)\n",
    "    \n",
    "    "
   ]
  },
  {
   "cell_type": "markdown",
   "metadata": {
    "ExecuteTime": {
     "end_time": "2018-10-04T14:45:15.614103Z",
     "start_time": "2018-10-04T14:45:15.610489Z"
    }
   },
   "source": [
    "## Reorder data"
   ]
  },
  {
   "cell_type": "code",
   "execution_count": null,
   "metadata": {},
   "outputs": [],
   "source": [
    "to_sort = ['totals_pageviews','totals_hits']\n",
    "for cat in to_sort:\n",
    "    orders = np.array(sorted(df_train[cat].cat.categories.astype(np.int32))).astype(np.str)\n",
    "    df_train[cat].cat.reorder_categories(orders,inplace=True)\n",
    "    df_test[cat].cat.reorder_categories(orders,inplace=True)"
   ]
  },
  {
   "cell_type": "code",
   "execution_count": null,
   "metadata": {},
   "outputs": [],
   "source": []
  },
  {
   "cell_type": "code",
   "execution_count": null,
   "metadata": {},
   "outputs": [],
   "source": []
  }
 ],
 "metadata": {
  "kernelspec": {
   "display_name": "Python 3",
   "language": "python",
   "name": "python3"
  },
  "language_info": {
   "codemirror_mode": {
    "name": "ipython",
    "version": 3
   },
   "file_extension": ".py",
   "mimetype": "text/x-python",
   "name": "python",
   "nbconvert_exporter": "python",
   "pygments_lexer": "ipython3",
   "version": "3.6.6"
  },
  "toc": {
   "base_numbering": 1,
   "nav_menu": {},
   "number_sections": true,
   "sideBar": true,
   "skip_h1_title": false,
   "title_cell": "Table of Contents",
   "title_sidebar": "Contents",
   "toc_cell": false,
   "toc_position": {},
   "toc_section_display": true,
   "toc_window_display": false
  }
 },
 "nbformat": 4,
 "nbformat_minor": 2
}
