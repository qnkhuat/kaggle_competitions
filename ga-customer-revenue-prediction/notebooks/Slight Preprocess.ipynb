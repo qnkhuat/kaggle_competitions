{
 "cells": [
  {
   "cell_type": "code",
   "execution_count": 1,
   "metadata": {
    "ExecuteTime": {
     "end_time": "2018-10-04T13:39:57.889385Z",
     "start_time": "2018-10-04T13:39:57.273550Z"
    }
   },
   "outputs": [],
   "source": [
    "import pandas as pd\n",
    "import json\n",
    "import numpy as np\n",
    "\n",
    "# convert json in df to columns\n",
    "from pandas.io.json import json_normalize"
   ]
  },
  {
   "cell_type": "code",
   "execution_count": 2,
   "metadata": {
    "ExecuteTime": {
     "end_time": "2018-10-04T13:39:59.454779Z",
     "start_time": "2018-10-04T13:39:57.891602Z"
    },
    "cell_style": "center"
   },
   "outputs": [],
   "source": [
    "import sys\n",
    "sys.path.append('..')\n",
    "from fastai.structured import apply_cats,train_cats,add_datepart"
   ]
  },
  {
   "cell_type": "markdown",
   "metadata": {},
   "source": [
    "# Raw data\n",
    "Just load 100000 rows for the EDA's sake\n",
    "\n"
   ]
  },
  {
   "cell_type": "code",
   "execution_count": 14,
   "metadata": {
    "ExecuteTime": {
     "end_time": "2018-10-04T14:26:27.845427Z",
     "start_time": "2018-10-04T14:24:41.583776Z"
    }
   },
   "outputs": [
    {
     "name": "stdout",
     "output_type": "stream",
     "text": [
      "CPU times: user 1min 8s, sys: 22.1 s, total: 1min 30s\n",
      "Wall time: 1min 46s\n"
     ]
    }
   ],
   "source": [
    "%%time\n",
    "\n",
    "json_cols = ['device', 'geoNetwork', 'totals', 'trafficSource']\n",
    "\n",
    "json_conv = {col: json.loads for col in (json_cols)}\n",
    "\n",
    "df_train = pd.read_csv(\"../data/train.csv\", \n",
    "    dtype={'fullVisitorId': str},\n",
    "    converters=json_conv,\n",
    "    low_memory=False,\n",
    "    parse_dates=['date'])\n",
    "\n",
    "\n",
    "df_test = pd.read_csv('../data/test.csv',\n",
    "    dtype={'fullVisitorId': str},\n",
    "    converters=json_conv,\n",
    "    low_memory=False)\n",
    "\n"
   ]
  },
  {
   "cell_type": "code",
   "execution_count": 15,
   "metadata": {
    "ExecuteTime": {
     "end_time": "2018-10-04T14:26:28.051081Z",
     "start_time": "2018-10-04T14:26:27.857830Z"
    }
   },
   "outputs": [
    {
     "data": {
      "text/html": [
       "<div>\n",
       "<style scoped>\n",
       "    .dataframe tbody tr th:only-of-type {\n",
       "        vertical-align: middle;\n",
       "    }\n",
       "\n",
       "    .dataframe tbody tr th {\n",
       "        vertical-align: top;\n",
       "    }\n",
       "\n",
       "    .dataframe thead th {\n",
       "        text-align: right;\n",
       "    }\n",
       "</style>\n",
       "<table border=\"1\" class=\"dataframe\">\n",
       "  <thead>\n",
       "    <tr style=\"text-align: right;\">\n",
       "      <th></th>\n",
       "      <th>channelGrouping</th>\n",
       "      <th>date</th>\n",
       "      <th>device</th>\n",
       "      <th>fullVisitorId</th>\n",
       "      <th>geoNetwork</th>\n",
       "      <th>sessionId</th>\n",
       "      <th>socialEngagementType</th>\n",
       "      <th>totals</th>\n",
       "      <th>trafficSource</th>\n",
       "      <th>visitId</th>\n",
       "      <th>visitNumber</th>\n",
       "      <th>visitStartTime</th>\n",
       "    </tr>\n",
       "  </thead>\n",
       "  <tbody>\n",
       "    <tr>\n",
       "      <th>0</th>\n",
       "      <td>Organic Search</td>\n",
       "      <td>2016-09-02</td>\n",
       "      <td>{'browser': 'Chrome', 'browserVersion': 'not a...</td>\n",
       "      <td>1131660440785968503</td>\n",
       "      <td>{'continent': 'Asia', 'subContinent': 'Western...</td>\n",
       "      <td>1131660440785968503_1472830385</td>\n",
       "      <td>Not Socially Engaged</td>\n",
       "      <td>{'visits': '1', 'hits': '1', 'pageviews': '1',...</td>\n",
       "      <td>{'campaign': '(not set)', 'source': 'google', ...</td>\n",
       "      <td>1472830385</td>\n",
       "      <td>1</td>\n",
       "      <td>1472830385</td>\n",
       "    </tr>\n",
       "    <tr>\n",
       "      <th>1</th>\n",
       "      <td>Organic Search</td>\n",
       "      <td>2016-09-02</td>\n",
       "      <td>{'browser': 'Firefox', 'browserVersion': 'not ...</td>\n",
       "      <td>377306020877927890</td>\n",
       "      <td>{'continent': 'Oceania', 'subContinent': 'Aust...</td>\n",
       "      <td>377306020877927890_1472880147</td>\n",
       "      <td>Not Socially Engaged</td>\n",
       "      <td>{'visits': '1', 'hits': '1', 'pageviews': '1',...</td>\n",
       "      <td>{'campaign': '(not set)', 'source': 'google', ...</td>\n",
       "      <td>1472880147</td>\n",
       "      <td>1</td>\n",
       "      <td>1472880147</td>\n",
       "    </tr>\n",
       "    <tr>\n",
       "      <th>2</th>\n",
       "      <td>Organic Search</td>\n",
       "      <td>2016-09-02</td>\n",
       "      <td>{'browser': 'Chrome', 'browserVersion': 'not a...</td>\n",
       "      <td>3895546263509774583</td>\n",
       "      <td>{'continent': 'Europe', 'subContinent': 'South...</td>\n",
       "      <td>3895546263509774583_1472865386</td>\n",
       "      <td>Not Socially Engaged</td>\n",
       "      <td>{'visits': '1', 'hits': '1', 'pageviews': '1',...</td>\n",
       "      <td>{'campaign': '(not set)', 'source': 'google', ...</td>\n",
       "      <td>1472865386</td>\n",
       "      <td>1</td>\n",
       "      <td>1472865386</td>\n",
       "    </tr>\n",
       "    <tr>\n",
       "      <th>3</th>\n",
       "      <td>Organic Search</td>\n",
       "      <td>2016-09-02</td>\n",
       "      <td>{'browser': 'UC Browser', 'browserVersion': 'n...</td>\n",
       "      <td>4763447161404445595</td>\n",
       "      <td>{'continent': 'Asia', 'subContinent': 'Southea...</td>\n",
       "      <td>4763447161404445595_1472881213</td>\n",
       "      <td>Not Socially Engaged</td>\n",
       "      <td>{'visits': '1', 'hits': '1', 'pageviews': '1',...</td>\n",
       "      <td>{'campaign': '(not set)', 'source': 'google', ...</td>\n",
       "      <td>1472881213</td>\n",
       "      <td>1</td>\n",
       "      <td>1472881213</td>\n",
       "    </tr>\n",
       "    <tr>\n",
       "      <th>4</th>\n",
       "      <td>Organic Search</td>\n",
       "      <td>2016-09-02</td>\n",
       "      <td>{'browser': 'Chrome', 'browserVersion': 'not a...</td>\n",
       "      <td>27294437909732085</td>\n",
       "      <td>{'continent': 'Europe', 'subContinent': 'North...</td>\n",
       "      <td>27294437909732085_1472822600</td>\n",
       "      <td>Not Socially Engaged</td>\n",
       "      <td>{'visits': '1', 'hits': '1', 'pageviews': '1',...</td>\n",
       "      <td>{'campaign': '(not set)', 'source': 'google', ...</td>\n",
       "      <td>1472822600</td>\n",
       "      <td>2</td>\n",
       "      <td>1472822600</td>\n",
       "    </tr>\n",
       "  </tbody>\n",
       "</table>\n",
       "</div>"
      ],
      "text/plain": [
       "  channelGrouping       date  \\\n",
       "0  Organic Search 2016-09-02   \n",
       "1  Organic Search 2016-09-02   \n",
       "2  Organic Search 2016-09-02   \n",
       "3  Organic Search 2016-09-02   \n",
       "4  Organic Search 2016-09-02   \n",
       "\n",
       "                                              device        fullVisitorId  \\\n",
       "0  {'browser': 'Chrome', 'browserVersion': 'not a...  1131660440785968503   \n",
       "1  {'browser': 'Firefox', 'browserVersion': 'not ...   377306020877927890   \n",
       "2  {'browser': 'Chrome', 'browserVersion': 'not a...  3895546263509774583   \n",
       "3  {'browser': 'UC Browser', 'browserVersion': 'n...  4763447161404445595   \n",
       "4  {'browser': 'Chrome', 'browserVersion': 'not a...    27294437909732085   \n",
       "\n",
       "                                          geoNetwork  \\\n",
       "0  {'continent': 'Asia', 'subContinent': 'Western...   \n",
       "1  {'continent': 'Oceania', 'subContinent': 'Aust...   \n",
       "2  {'continent': 'Europe', 'subContinent': 'South...   \n",
       "3  {'continent': 'Asia', 'subContinent': 'Southea...   \n",
       "4  {'continent': 'Europe', 'subContinent': 'North...   \n",
       "\n",
       "                        sessionId  socialEngagementType  \\\n",
       "0  1131660440785968503_1472830385  Not Socially Engaged   \n",
       "1   377306020877927890_1472880147  Not Socially Engaged   \n",
       "2  3895546263509774583_1472865386  Not Socially Engaged   \n",
       "3  4763447161404445595_1472881213  Not Socially Engaged   \n",
       "4    27294437909732085_1472822600  Not Socially Engaged   \n",
       "\n",
       "                                              totals  \\\n",
       "0  {'visits': '1', 'hits': '1', 'pageviews': '1',...   \n",
       "1  {'visits': '1', 'hits': '1', 'pageviews': '1',...   \n",
       "2  {'visits': '1', 'hits': '1', 'pageviews': '1',...   \n",
       "3  {'visits': '1', 'hits': '1', 'pageviews': '1',...   \n",
       "4  {'visits': '1', 'hits': '1', 'pageviews': '1',...   \n",
       "\n",
       "                                       trafficSource     visitId  visitNumber  \\\n",
       "0  {'campaign': '(not set)', 'source': 'google', ...  1472830385            1   \n",
       "1  {'campaign': '(not set)', 'source': 'google', ...  1472880147            1   \n",
       "2  {'campaign': '(not set)', 'source': 'google', ...  1472865386            1   \n",
       "3  {'campaign': '(not set)', 'source': 'google', ...  1472881213            1   \n",
       "4  {'campaign': '(not set)', 'source': 'google', ...  1472822600            2   \n",
       "\n",
       "   visitStartTime  \n",
       "0      1472830385  \n",
       "1      1472880147  \n",
       "2      1472865386  \n",
       "3      1472881213  \n",
       "4      1472822600  "
      ]
     },
     "execution_count": 15,
     "metadata": {},
     "output_type": "execute_result"
    }
   ],
   "source": [
    "df_train.head()\n"
   ]
  },
  {
   "cell_type": "code",
   "execution_count": 16,
   "metadata": {
    "ExecuteTime": {
     "end_time": "2018-10-04T14:26:32.723013Z",
     "start_time": "2018-10-04T14:26:28.056735Z"
    },
    "scrolled": true
   },
   "outputs": [
    {
     "data": {
      "text/plain": [
       "channelGrouping         0\n",
       "date                    0\n",
       "device                  0\n",
       "fullVisitorId           0\n",
       "geoNetwork              0\n",
       "sessionId               0\n",
       "socialEngagementType    0\n",
       "totals                  0\n",
       "trafficSource           0\n",
       "visitId                 0\n",
       "visitNumber             0\n",
       "visitStartTime          0\n",
       "dtype: int64"
      ]
     },
     "execution_count": 16,
     "metadata": {},
     "output_type": "execute_result"
    }
   ],
   "source": [
    "df_train.isnull().sum()"
   ]
  },
  {
   "cell_type": "markdown",
   "metadata": {},
   "source": [
    "Data has no null"
   ]
  },
  {
   "cell_type": "markdown",
   "metadata": {},
   "source": [
    "## Slighly preprocess\n",
    "This data contains json in some columns, we need to convert into indivitual columns"
   ]
  },
  {
   "cell_type": "code",
   "execution_count": 17,
   "metadata": {
    "ExecuteTime": {
     "end_time": "2018-10-04T14:26:35.105600Z",
     "start_time": "2018-10-04T14:26:32.726816Z"
    }
   },
   "outputs": [],
   "source": [
    "add_datepart(df_train,'date')\n",
    "add_datepart(df_test,'date')"
   ]
  },
  {
   "cell_type": "code",
   "execution_count": 9,
   "metadata": {
    "ExecuteTime": {
     "end_time": "2018-10-04T08:29:12.712745Z",
     "start_time": "2018-10-04T08:29:12.682741Z"
    }
   },
   "outputs": [
    {
     "data": {
      "text/html": [
       "<div>\n",
       "<style scoped>\n",
       "    .dataframe tbody tr th:only-of-type {\n",
       "        vertical-align: middle;\n",
       "    }\n",
       "\n",
       "    .dataframe tbody tr th {\n",
       "        vertical-align: top;\n",
       "    }\n",
       "\n",
       "    .dataframe thead th {\n",
       "        text-align: right;\n",
       "    }\n",
       "</style>\n",
       "<table border=\"1\" class=\"dataframe\">\n",
       "  <thead>\n",
       "    <tr style=\"text-align: right;\">\n",
       "      <th></th>\n",
       "      <th>channelGrouping</th>\n",
       "      <th>device</th>\n",
       "      <th>fullVisitorId</th>\n",
       "      <th>geoNetwork</th>\n",
       "      <th>sessionId</th>\n",
       "      <th>socialEngagementType</th>\n",
       "      <th>totals</th>\n",
       "      <th>trafficSource</th>\n",
       "      <th>visitId</th>\n",
       "      <th>visitNumber</th>\n",
       "      <th>...</th>\n",
       "      <th>Day</th>\n",
       "      <th>Dayofweek</th>\n",
       "      <th>Dayofyear</th>\n",
       "      <th>Is_month_end</th>\n",
       "      <th>Is_month_start</th>\n",
       "      <th>Is_quarter_end</th>\n",
       "      <th>Is_quarter_start</th>\n",
       "      <th>Is_year_end</th>\n",
       "      <th>Is_year_start</th>\n",
       "      <th>Elapsed</th>\n",
       "    </tr>\n",
       "  </thead>\n",
       "  <tbody>\n",
       "    <tr>\n",
       "      <th>0</th>\n",
       "      <td>Organic Search</td>\n",
       "      <td>{'browser': 'Chrome', 'browserVersion': 'not a...</td>\n",
       "      <td>1131660440785968503</td>\n",
       "      <td>{'continent': 'Asia', 'subContinent': 'Western...</td>\n",
       "      <td>1131660440785968503_1472830385</td>\n",
       "      <td>Not Socially Engaged</td>\n",
       "      <td>{'visits': '1', 'hits': '1', 'pageviews': '1',...</td>\n",
       "      <td>{'campaign': '(not set)', 'source': 'google', ...</td>\n",
       "      <td>1472830385</td>\n",
       "      <td>1</td>\n",
       "      <td>...</td>\n",
       "      <td>2</td>\n",
       "      <td>4</td>\n",
       "      <td>246</td>\n",
       "      <td>False</td>\n",
       "      <td>False</td>\n",
       "      <td>False</td>\n",
       "      <td>False</td>\n",
       "      <td>False</td>\n",
       "      <td>False</td>\n",
       "      <td>1472774400</td>\n",
       "    </tr>\n",
       "    <tr>\n",
       "      <th>1</th>\n",
       "      <td>Organic Search</td>\n",
       "      <td>{'browser': 'Firefox', 'browserVersion': 'not ...</td>\n",
       "      <td>377306020877927890</td>\n",
       "      <td>{'continent': 'Oceania', 'subContinent': 'Aust...</td>\n",
       "      <td>377306020877927890_1472880147</td>\n",
       "      <td>Not Socially Engaged</td>\n",
       "      <td>{'visits': '1', 'hits': '1', 'pageviews': '1',...</td>\n",
       "      <td>{'campaign': '(not set)', 'source': 'google', ...</td>\n",
       "      <td>1472880147</td>\n",
       "      <td>1</td>\n",
       "      <td>...</td>\n",
       "      <td>2</td>\n",
       "      <td>4</td>\n",
       "      <td>246</td>\n",
       "      <td>False</td>\n",
       "      <td>False</td>\n",
       "      <td>False</td>\n",
       "      <td>False</td>\n",
       "      <td>False</td>\n",
       "      <td>False</td>\n",
       "      <td>1472774400</td>\n",
       "    </tr>\n",
       "    <tr>\n",
       "      <th>2</th>\n",
       "      <td>Organic Search</td>\n",
       "      <td>{'browser': 'Chrome', 'browserVersion': 'not a...</td>\n",
       "      <td>3895546263509774583</td>\n",
       "      <td>{'continent': 'Europe', 'subContinent': 'South...</td>\n",
       "      <td>3895546263509774583_1472865386</td>\n",
       "      <td>Not Socially Engaged</td>\n",
       "      <td>{'visits': '1', 'hits': '1', 'pageviews': '1',...</td>\n",
       "      <td>{'campaign': '(not set)', 'source': 'google', ...</td>\n",
       "      <td>1472865386</td>\n",
       "      <td>1</td>\n",
       "      <td>...</td>\n",
       "      <td>2</td>\n",
       "      <td>4</td>\n",
       "      <td>246</td>\n",
       "      <td>False</td>\n",
       "      <td>False</td>\n",
       "      <td>False</td>\n",
       "      <td>False</td>\n",
       "      <td>False</td>\n",
       "      <td>False</td>\n",
       "      <td>1472774400</td>\n",
       "    </tr>\n",
       "    <tr>\n",
       "      <th>3</th>\n",
       "      <td>Organic Search</td>\n",
       "      <td>{'browser': 'UC Browser', 'browserVersion': 'n...</td>\n",
       "      <td>4763447161404445595</td>\n",
       "      <td>{'continent': 'Asia', 'subContinent': 'Southea...</td>\n",
       "      <td>4763447161404445595_1472881213</td>\n",
       "      <td>Not Socially Engaged</td>\n",
       "      <td>{'visits': '1', 'hits': '1', 'pageviews': '1',...</td>\n",
       "      <td>{'campaign': '(not set)', 'source': 'google', ...</td>\n",
       "      <td>1472881213</td>\n",
       "      <td>1</td>\n",
       "      <td>...</td>\n",
       "      <td>2</td>\n",
       "      <td>4</td>\n",
       "      <td>246</td>\n",
       "      <td>False</td>\n",
       "      <td>False</td>\n",
       "      <td>False</td>\n",
       "      <td>False</td>\n",
       "      <td>False</td>\n",
       "      <td>False</td>\n",
       "      <td>1472774400</td>\n",
       "    </tr>\n",
       "    <tr>\n",
       "      <th>4</th>\n",
       "      <td>Organic Search</td>\n",
       "      <td>{'browser': 'Chrome', 'browserVersion': 'not a...</td>\n",
       "      <td>27294437909732085</td>\n",
       "      <td>{'continent': 'Europe', 'subContinent': 'North...</td>\n",
       "      <td>27294437909732085_1472822600</td>\n",
       "      <td>Not Socially Engaged</td>\n",
       "      <td>{'visits': '1', 'hits': '1', 'pageviews': '1',...</td>\n",
       "      <td>{'campaign': '(not set)', 'source': 'google', ...</td>\n",
       "      <td>1472822600</td>\n",
       "      <td>2</td>\n",
       "      <td>...</td>\n",
       "      <td>2</td>\n",
       "      <td>4</td>\n",
       "      <td>246</td>\n",
       "      <td>False</td>\n",
       "      <td>False</td>\n",
       "      <td>False</td>\n",
       "      <td>False</td>\n",
       "      <td>False</td>\n",
       "      <td>False</td>\n",
       "      <td>1472774400</td>\n",
       "    </tr>\n",
       "  </tbody>\n",
       "</table>\n",
       "<p>5 rows × 24 columns</p>\n",
       "</div>"
      ],
      "text/plain": [
       "  channelGrouping                                             device  \\\n",
       "0  Organic Search  {'browser': 'Chrome', 'browserVersion': 'not a...   \n",
       "1  Organic Search  {'browser': 'Firefox', 'browserVersion': 'not ...   \n",
       "2  Organic Search  {'browser': 'Chrome', 'browserVersion': 'not a...   \n",
       "3  Organic Search  {'browser': 'UC Browser', 'browserVersion': 'n...   \n",
       "4  Organic Search  {'browser': 'Chrome', 'browserVersion': 'not a...   \n",
       "\n",
       "         fullVisitorId                                         geoNetwork  \\\n",
       "0  1131660440785968503  {'continent': 'Asia', 'subContinent': 'Western...   \n",
       "1   377306020877927890  {'continent': 'Oceania', 'subContinent': 'Aust...   \n",
       "2  3895546263509774583  {'continent': 'Europe', 'subContinent': 'South...   \n",
       "3  4763447161404445595  {'continent': 'Asia', 'subContinent': 'Southea...   \n",
       "4    27294437909732085  {'continent': 'Europe', 'subContinent': 'North...   \n",
       "\n",
       "                        sessionId  socialEngagementType  \\\n",
       "0  1131660440785968503_1472830385  Not Socially Engaged   \n",
       "1   377306020877927890_1472880147  Not Socially Engaged   \n",
       "2  3895546263509774583_1472865386  Not Socially Engaged   \n",
       "3  4763447161404445595_1472881213  Not Socially Engaged   \n",
       "4    27294437909732085_1472822600  Not Socially Engaged   \n",
       "\n",
       "                                              totals  \\\n",
       "0  {'visits': '1', 'hits': '1', 'pageviews': '1',...   \n",
       "1  {'visits': '1', 'hits': '1', 'pageviews': '1',...   \n",
       "2  {'visits': '1', 'hits': '1', 'pageviews': '1',...   \n",
       "3  {'visits': '1', 'hits': '1', 'pageviews': '1',...   \n",
       "4  {'visits': '1', 'hits': '1', 'pageviews': '1',...   \n",
       "\n",
       "                                       trafficSource     visitId  visitNumber  \\\n",
       "0  {'campaign': '(not set)', 'source': 'google', ...  1472830385            1   \n",
       "1  {'campaign': '(not set)', 'source': 'google', ...  1472880147            1   \n",
       "2  {'campaign': '(not set)', 'source': 'google', ...  1472865386            1   \n",
       "3  {'campaign': '(not set)', 'source': 'google', ...  1472881213            1   \n",
       "4  {'campaign': '(not set)', 'source': 'google', ...  1472822600            2   \n",
       "\n",
       "      ...      Day  Dayofweek  Dayofyear  Is_month_end  Is_month_start  \\\n",
       "0     ...        2          4        246         False           False   \n",
       "1     ...        2          4        246         False           False   \n",
       "2     ...        2          4        246         False           False   \n",
       "3     ...        2          4        246         False           False   \n",
       "4     ...        2          4        246         False           False   \n",
       "\n",
       "   Is_quarter_end  Is_quarter_start  Is_year_end  Is_year_start     Elapsed  \n",
       "0           False             False        False          False  1472774400  \n",
       "1           False             False        False          False  1472774400  \n",
       "2           False             False        False          False  1472774400  \n",
       "3           False             False        False          False  1472774400  \n",
       "4           False             False        False          False  1472774400  \n",
       "\n",
       "[5 rows x 24 columns]"
      ]
     },
     "execution_count": 9,
     "metadata": {},
     "output_type": "execute_result"
    }
   ],
   "source": [
    "df_train.head()"
   ]
  },
  {
   "cell_type": "code",
   "execution_count": 10,
   "metadata": {
    "ExecuteTime": {
     "end_time": "2018-10-04T08:29:14.019351Z",
     "start_time": "2018-10-04T08:29:14.012846Z"
    }
   },
   "outputs": [
    {
     "data": {
      "text/plain": [
       "Index(['channelGrouping', 'device', 'fullVisitorId', 'geoNetwork', 'sessionId',\n",
       "       'socialEngagementType', 'totals', 'trafficSource', 'visitId',\n",
       "       'visitNumber', 'visitStartTime', 'Year', 'Month', 'Week', 'Day',\n",
       "       'Dayofweek', 'Dayofyear', 'Is_month_end', 'Is_month_start',\n",
       "       'Is_quarter_end', 'Is_quarter_start', 'Is_year_end', 'Is_year_start',\n",
       "       'Elapsed'],\n",
       "      dtype='object')"
      ]
     },
     "execution_count": 10,
     "metadata": {},
     "output_type": "execute_result"
    }
   ],
   "source": [
    "df_train.columns"
   ]
  },
  {
   "cell_type": "markdown",
   "metadata": {},
   "source": [
    "### Convert the json columns"
   ]
  },
  {
   "cell_type": "code",
   "execution_count": 18,
   "metadata": {
    "ExecuteTime": {
     "end_time": "2018-10-04T14:26:35.117704Z",
     "start_time": "2018-10-04T14:26:35.111378Z"
    },
    "code_folding": []
   },
   "outputs": [],
   "source": [
    "# convert json columns into signle columns\n",
    "def decode_json(df_raw,json_cols):\n",
    "    df = df_raw.copy()\n",
    "    for column in json_cols:\n",
    "        tdf = json_normalize(df[column])\n",
    "        df = df.drop(columns = [column])\n",
    "        tdf.columns = [column + '_' + col for col in tdf.columns]\n",
    "        df = df.merge(tdf, left_index=True, right_index=True)\n",
    "    return df\n",
    "        "
   ]
  },
  {
   "cell_type": "code",
   "execution_count": 19,
   "metadata": {
    "ExecuteTime": {
     "end_time": "2018-10-04T14:30:19.685605Z",
     "start_time": "2018-10-04T14:26:35.123215Z"
    }
   },
   "outputs": [
    {
     "name": "stdout",
     "output_type": "stream",
     "text": [
      "CPU times: user 2min 10s, sys: 59.9 s, total: 3min 10s\n",
      "Wall time: 3min 44s\n"
     ]
    }
   ],
   "source": [
    "%%time\n",
    "df_train = decode_json(df_train,json_cols)\n"
   ]
  },
  {
   "cell_type": "code",
   "execution_count": 23,
   "metadata": {
    "ExecuteTime": {
     "end_time": "2018-10-04T14:40:59.132661Z",
     "start_time": "2018-10-04T14:37:34.890913Z"
    }
   },
   "outputs": [
    {
     "name": "stdout",
     "output_type": "stream",
     "text": [
      "CPU times: user 1min 59s, sys: 57.3 s, total: 2min 56s\n",
      "Wall time: 3min 24s\n"
     ]
    }
   ],
   "source": [
    "%%time\n",
    "df_test = decode_json(df_test,json_cols)"
   ]
  },
  {
   "cell_type": "code",
   "execution_count": 24,
   "metadata": {
    "ExecuteTime": {
     "end_time": "2018-10-04T14:40:59.317141Z",
     "start_time": "2018-10-04T14:40:59.144956Z"
    }
   },
   "outputs": [
    {
     "data": {
      "text/html": [
       "<div>\n",
       "<style scoped>\n",
       "    .dataframe tbody tr th:only-of-type {\n",
       "        vertical-align: middle;\n",
       "    }\n",
       "\n",
       "    .dataframe tbody tr th {\n",
       "        vertical-align: top;\n",
       "    }\n",
       "\n",
       "    .dataframe thead th {\n",
       "        text-align: right;\n",
       "    }\n",
       "</style>\n",
       "<table border=\"1\" class=\"dataframe\">\n",
       "  <thead>\n",
       "    <tr style=\"text-align: right;\">\n",
       "      <th></th>\n",
       "      <th>channelGrouping</th>\n",
       "      <th>fullVisitorId</th>\n",
       "      <th>sessionId</th>\n",
       "      <th>socialEngagementType</th>\n",
       "      <th>visitId</th>\n",
       "      <th>visitNumber</th>\n",
       "      <th>visitStartTime</th>\n",
       "      <th>Year</th>\n",
       "      <th>Month</th>\n",
       "      <th>Week</th>\n",
       "      <th>...</th>\n",
       "      <th>trafficSource_adwordsClickInfo.isVideoAd</th>\n",
       "      <th>trafficSource_adwordsClickInfo.page</th>\n",
       "      <th>trafficSource_adwordsClickInfo.slot</th>\n",
       "      <th>trafficSource_campaign</th>\n",
       "      <th>trafficSource_campaignCode</th>\n",
       "      <th>trafficSource_isTrueDirect</th>\n",
       "      <th>trafficSource_keyword</th>\n",
       "      <th>trafficSource_medium</th>\n",
       "      <th>trafficSource_referralPath</th>\n",
       "      <th>trafficSource_source</th>\n",
       "    </tr>\n",
       "  </thead>\n",
       "  <tbody>\n",
       "    <tr>\n",
       "      <th>0</th>\n",
       "      <td>Organic Search</td>\n",
       "      <td>1131660440785968503</td>\n",
       "      <td>1131660440785968503_1472830385</td>\n",
       "      <td>Not Socially Engaged</td>\n",
       "      <td>1472830385</td>\n",
       "      <td>1</td>\n",
       "      <td>1472830385</td>\n",
       "      <td>2016</td>\n",
       "      <td>9</td>\n",
       "      <td>35</td>\n",
       "      <td>...</td>\n",
       "      <td>NaN</td>\n",
       "      <td>NaN</td>\n",
       "      <td>NaN</td>\n",
       "      <td>(not set)</td>\n",
       "      <td>NaN</td>\n",
       "      <td>NaN</td>\n",
       "      <td>(not provided)</td>\n",
       "      <td>organic</td>\n",
       "      <td>NaN</td>\n",
       "      <td>google</td>\n",
       "    </tr>\n",
       "    <tr>\n",
       "      <th>1</th>\n",
       "      <td>Organic Search</td>\n",
       "      <td>377306020877927890</td>\n",
       "      <td>377306020877927890_1472880147</td>\n",
       "      <td>Not Socially Engaged</td>\n",
       "      <td>1472880147</td>\n",
       "      <td>1</td>\n",
       "      <td>1472880147</td>\n",
       "      <td>2016</td>\n",
       "      <td>9</td>\n",
       "      <td>35</td>\n",
       "      <td>...</td>\n",
       "      <td>NaN</td>\n",
       "      <td>NaN</td>\n",
       "      <td>NaN</td>\n",
       "      <td>(not set)</td>\n",
       "      <td>NaN</td>\n",
       "      <td>NaN</td>\n",
       "      <td>(not provided)</td>\n",
       "      <td>organic</td>\n",
       "      <td>NaN</td>\n",
       "      <td>google</td>\n",
       "    </tr>\n",
       "    <tr>\n",
       "      <th>2</th>\n",
       "      <td>Organic Search</td>\n",
       "      <td>3895546263509774583</td>\n",
       "      <td>3895546263509774583_1472865386</td>\n",
       "      <td>Not Socially Engaged</td>\n",
       "      <td>1472865386</td>\n",
       "      <td>1</td>\n",
       "      <td>1472865386</td>\n",
       "      <td>2016</td>\n",
       "      <td>9</td>\n",
       "      <td>35</td>\n",
       "      <td>...</td>\n",
       "      <td>NaN</td>\n",
       "      <td>NaN</td>\n",
       "      <td>NaN</td>\n",
       "      <td>(not set)</td>\n",
       "      <td>NaN</td>\n",
       "      <td>NaN</td>\n",
       "      <td>(not provided)</td>\n",
       "      <td>organic</td>\n",
       "      <td>NaN</td>\n",
       "      <td>google</td>\n",
       "    </tr>\n",
       "    <tr>\n",
       "      <th>3</th>\n",
       "      <td>Organic Search</td>\n",
       "      <td>4763447161404445595</td>\n",
       "      <td>4763447161404445595_1472881213</td>\n",
       "      <td>Not Socially Engaged</td>\n",
       "      <td>1472881213</td>\n",
       "      <td>1</td>\n",
       "      <td>1472881213</td>\n",
       "      <td>2016</td>\n",
       "      <td>9</td>\n",
       "      <td>35</td>\n",
       "      <td>...</td>\n",
       "      <td>NaN</td>\n",
       "      <td>NaN</td>\n",
       "      <td>NaN</td>\n",
       "      <td>(not set)</td>\n",
       "      <td>NaN</td>\n",
       "      <td>NaN</td>\n",
       "      <td>google + online</td>\n",
       "      <td>organic</td>\n",
       "      <td>NaN</td>\n",
       "      <td>google</td>\n",
       "    </tr>\n",
       "    <tr>\n",
       "      <th>4</th>\n",
       "      <td>Organic Search</td>\n",
       "      <td>27294437909732085</td>\n",
       "      <td>27294437909732085_1472822600</td>\n",
       "      <td>Not Socially Engaged</td>\n",
       "      <td>1472822600</td>\n",
       "      <td>2</td>\n",
       "      <td>1472822600</td>\n",
       "      <td>2016</td>\n",
       "      <td>9</td>\n",
       "      <td>35</td>\n",
       "      <td>...</td>\n",
       "      <td>NaN</td>\n",
       "      <td>NaN</td>\n",
       "      <td>NaN</td>\n",
       "      <td>(not set)</td>\n",
       "      <td>NaN</td>\n",
       "      <td>True</td>\n",
       "      <td>(not provided)</td>\n",
       "      <td>organic</td>\n",
       "      <td>NaN</td>\n",
       "      <td>google</td>\n",
       "    </tr>\n",
       "  </tbody>\n",
       "</table>\n",
       "<p>5 rows × 67 columns</p>\n",
       "</div>"
      ],
      "text/plain": [
       "  channelGrouping        fullVisitorId                       sessionId  \\\n",
       "0  Organic Search  1131660440785968503  1131660440785968503_1472830385   \n",
       "1  Organic Search   377306020877927890   377306020877927890_1472880147   \n",
       "2  Organic Search  3895546263509774583  3895546263509774583_1472865386   \n",
       "3  Organic Search  4763447161404445595  4763447161404445595_1472881213   \n",
       "4  Organic Search    27294437909732085    27294437909732085_1472822600   \n",
       "\n",
       "   socialEngagementType     visitId  visitNumber  visitStartTime  Year  Month  \\\n",
       "0  Not Socially Engaged  1472830385            1      1472830385  2016      9   \n",
       "1  Not Socially Engaged  1472880147            1      1472880147  2016      9   \n",
       "2  Not Socially Engaged  1472865386            1      1472865386  2016      9   \n",
       "3  Not Socially Engaged  1472881213            1      1472881213  2016      9   \n",
       "4  Not Socially Engaged  1472822600            2      1472822600  2016      9   \n",
       "\n",
       "   Week          ...           trafficSource_adwordsClickInfo.isVideoAd  \\\n",
       "0    35          ...                                                NaN   \n",
       "1    35          ...                                                NaN   \n",
       "2    35          ...                                                NaN   \n",
       "3    35          ...                                                NaN   \n",
       "4    35          ...                                                NaN   \n",
       "\n",
       "   trafficSource_adwordsClickInfo.page  trafficSource_adwordsClickInfo.slot  \\\n",
       "0                                  NaN                                  NaN   \n",
       "1                                  NaN                                  NaN   \n",
       "2                                  NaN                                  NaN   \n",
       "3                                  NaN                                  NaN   \n",
       "4                                  NaN                                  NaN   \n",
       "\n",
       "   trafficSource_campaign  trafficSource_campaignCode  \\\n",
       "0               (not set)                         NaN   \n",
       "1               (not set)                         NaN   \n",
       "2               (not set)                         NaN   \n",
       "3               (not set)                         NaN   \n",
       "4               (not set)                         NaN   \n",
       "\n",
       "   trafficSource_isTrueDirect  trafficSource_keyword  trafficSource_medium  \\\n",
       "0                         NaN         (not provided)               organic   \n",
       "1                         NaN         (not provided)               organic   \n",
       "2                         NaN         (not provided)               organic   \n",
       "3                         NaN        google + online               organic   \n",
       "4                        True         (not provided)               organic   \n",
       "\n",
       "   trafficSource_referralPath  trafficSource_source  \n",
       "0                         NaN                google  \n",
       "1                         NaN                google  \n",
       "2                         NaN                google  \n",
       "3                         NaN                google  \n",
       "4                         NaN                google  \n",
       "\n",
       "[5 rows x 67 columns]"
      ]
     },
     "execution_count": 24,
     "metadata": {},
     "output_type": "execute_result"
    }
   ],
   "source": [
    "df_train.head()"
   ]
  },
  {
   "cell_type": "markdown",
   "metadata": {},
   "source": [
    "Convert value that are similar to Na"
   ]
  },
  {
   "cell_type": "code",
   "execution_count": 25,
   "metadata": {
    "ExecuteTime": {
     "end_time": "2018-10-04T14:40:59.347524Z",
     "start_time": "2018-10-04T14:40:59.321954Z"
    }
   },
   "outputs": [],
   "source": [
    "cols_to_replace = {\n",
    "    'socialEngagementType' : 'Not Socially Engaged',\n",
    "    'device_browserSize' : 'not available in demo dataset', \n",
    "    'device_flashVersion' : 'not available in demo dataset', \n",
    "    'device_browserVersion' : 'not available in demo dataset', \n",
    "    'device_language' : 'not available in demo dataset',\n",
    "    'device_mobileDeviceBranding' : 'not available in demo dataset',\n",
    "    'device_mobileDeviceInfo' : 'not available in demo dataset',\n",
    "    'device_mobileDeviceMarketingName' : 'not available in demo dataset',\n",
    "    'device_mobileDeviceModel' : 'not available in demo dataset',\n",
    "    'device_mobileInputSelector' : 'not available in demo dataset',\n",
    "    'device_operatingSystemVersion' : 'not available in demo dataset',\n",
    "    'device_screenColors' : 'not available in demo dataset',\n",
    "    'device_screenResolution' : 'not available in demo dataset',\n",
    "    'geoNetwork_city' : 'not available in demo dataset',\n",
    "    'geoNetwork_cityId' : 'not available in demo dataset',\n",
    "    'geoNetwork_latitude' : 'not available in demo dataset',\n",
    "    'geoNetwork_longitude' : 'not available in demo dataset',\n",
    "    'geoNetwork_metro' : ['not available in demo dataset', '(not set)'], \n",
    "    'geoNetwork_networkDomain' : 'unknown.unknown', \n",
    "    'geoNetwork_networkLocation' : 'not available in demo dataset',\n",
    "    'geoNetwork_region' : 'not available in demo dataset',\n",
    "    'trafficSource_adwordsClickInfo.criteriaParameters' : 'not available in demo dataset',\n",
    "    'trafficSource_campaign' : '(not set)', \n",
    "    'trafficSource_keyword' : '(not provided)'\n",
    "}"
   ]
  },
  {
   "cell_type": "code",
   "execution_count": 26,
   "metadata": {
    "ExecuteTime": {
     "end_time": "2018-10-04T14:43:36.967135Z",
     "start_time": "2018-10-04T14:40:59.353064Z"
    }
   },
   "outputs": [
    {
     "name": "stdout",
     "output_type": "stream",
     "text": [
      "CPU times: user 1min 53s, sys: 28.7 s, total: 2min 21s\n",
      "Wall time: 2min 37s\n"
     ]
    }
   ],
   "source": [
    "%%time\n",
    "df_train = df_train.replace(cols_to_replace, 'NA')"
   ]
  },
  {
   "cell_type": "code",
   "execution_count": 27,
   "metadata": {
    "ExecuteTime": {
     "end_time": "2018-10-04T14:45:42.484132Z",
     "start_time": "2018-10-04T14:43:36.974576Z"
    }
   },
   "outputs": [
    {
     "name": "stdout",
     "output_type": "stream",
     "text": [
      "CPU times: user 1min 32s, sys: 22.4 s, total: 1min 55s\n",
      "Wall time: 2min 5s\n"
     ]
    }
   ],
   "source": [
    "%%time\n",
    "df_test = df_test.replace(cols_to_replace, 'NA')"
   ]
  },
  {
   "cell_type": "code",
   "execution_count": 31,
   "metadata": {
    "ExecuteTime": {
     "end_time": "2018-10-04T14:48:44.672904Z",
     "start_time": "2018-10-04T14:48:44.664875Z"
    }
   },
   "outputs": [
    {
     "data": {
      "text/plain": [
       "(Index(['channelGrouping', 'fullVisitorId', 'sessionId', 'socialEngagementType',\n",
       "        'visitId', 'visitNumber', 'visitStartTime', 'Year', 'Month', 'Week',\n",
       "        'Day', 'Dayofweek', 'Dayofyear', 'Is_month_end', 'Is_month_start',\n",
       "        'Is_quarter_end', 'Is_quarter_start', 'Is_year_end', 'Is_year_start',\n",
       "        'Elapsed', 'device_browser', 'device_browserSize',\n",
       "        'device_browserVersion', 'device_deviceCategory', 'device_flashVersion',\n",
       "        'device_isMobile', 'device_language', 'device_mobileDeviceBranding',\n",
       "        'device_mobileDeviceInfo', 'device_mobileDeviceMarketingName',\n",
       "        'device_mobileDeviceModel', 'device_mobileInputSelector',\n",
       "        'device_operatingSystem', 'device_operatingSystemVersion',\n",
       "        'device_screenColors', 'device_screenResolution', 'geoNetwork_city',\n",
       "        'geoNetwork_cityId', 'geoNetwork_continent', 'geoNetwork_country',\n",
       "        'geoNetwork_latitude', 'geoNetwork_longitude', 'geoNetwork_metro',\n",
       "        'geoNetwork_networkDomain', 'geoNetwork_networkLocation',\n",
       "        'geoNetwork_region', 'geoNetwork_subContinent', 'totals_bounces',\n",
       "        'totals_hits', 'totals_newVisits', 'totals_pageviews',\n",
       "        'totals_transactionRevenue', 'totals_visits', 'trafficSource_adContent',\n",
       "        'trafficSource_adwordsClickInfo.adNetworkType',\n",
       "        'trafficSource_adwordsClickInfo.criteriaParameters',\n",
       "        'trafficSource_adwordsClickInfo.gclId',\n",
       "        'trafficSource_adwordsClickInfo.isVideoAd',\n",
       "        'trafficSource_adwordsClickInfo.page',\n",
       "        'trafficSource_adwordsClickInfo.slot', 'trafficSource_campaign',\n",
       "        'trafficSource_campaignCode', 'trafficSource_isTrueDirect',\n",
       "        'trafficSource_keyword', 'trafficSource_medium',\n",
       "        'trafficSource_referralPath', 'trafficSource_source'],\n",
       "       dtype='object'), 67)"
      ]
     },
     "execution_count": 31,
     "metadata": {},
     "output_type": "execute_result"
    }
   ],
   "source": [
    "df_train.columns,len(df_train.columns)"
   ]
  },
  {
   "cell_type": "markdown",
   "metadata": {},
   "source": [
    "Fill na of target column with 0"
   ]
  },
  {
   "cell_type": "code",
   "execution_count": 32,
   "metadata": {
    "ExecuteTime": {
     "end_time": "2018-10-04T14:48:53.394786Z",
     "start_time": "2018-10-04T14:48:53.385078Z"
    }
   },
   "outputs": [],
   "source": [
    "df_train.totals_transactionRevenue = df_train['totals_transactionRevenue'].fillna(0).astype(float)"
   ]
  },
  {
   "cell_type": "code",
   "execution_count": null,
   "metadata": {
    "ExecuteTime": {
     "end_time": "2018-10-04T14:45:54.869097Z",
     "start_time": "2018-10-04T14:37:40.744Z"
    },
    "scrolled": true
   },
   "outputs": [],
   "source": [
    "for col in df_train.columns:\n",
    "    print(col)\n",
    "    unique = df_train[col].unique()\n",
    "    if len(unique)>100:\n",
    "        pass\n",
    "        print('Regression')\n",
    "    else:\n",
    "        print(unique)\n",
    "    print('-'*20)"
   ]
  },
  {
   "cell_type": "markdown",
   "metadata": {},
   "source": [
    "The categorical variables are currently stored as strings, which is inefficient, and doesn't provide the numeric coding required for a random forest. Therefore we call `train_cats` to convert strings to pandas categories."
   ]
  },
  {
   "cell_type": "code",
   "execution_count": 35,
   "metadata": {
    "ExecuteTime": {
     "end_time": "2018-10-04T14:52:04.973161Z",
     "start_time": "2018-10-04T14:52:04.967327Z"
    }
   },
   "outputs": [],
   "source": [
    "\n",
    "train_cats(df_train)\n"
   ]
  },
  {
   "cell_type": "code",
   "execution_count": 38,
   "metadata": {
    "ExecuteTime": {
     "end_time": "2018-10-04T14:52:24.423956Z",
     "start_time": "2018-10-04T14:52:22.553132Z"
    }
   },
   "outputs": [],
   "source": [
    "train_cats(df_test)"
   ]
  },
  {
   "cell_type": "code",
   "execution_count": null,
   "metadata": {
    "ExecuteTime": {
     "end_time": "2018-10-04T14:45:54.877922Z",
     "start_time": "2018-10-04T14:37:43.085Z"
    }
   },
   "outputs": [],
   "source": [
    "for col in df_train.columns:\n",
    "    print(col)\n",
    "    unique = df_train[col].unique()\n",
    "    if len(unique)>20:\n",
    "        pass\n",
    "        print('Regression')\n",
    "    else:\n",
    "        print(unique)\n",
    "    print('-'*20)"
   ]
  },
  {
   "cell_type": "code",
   "execution_count": 39,
   "metadata": {
    "ExecuteTime": {
     "end_time": "2018-10-04T14:52:28.094713Z",
     "start_time": "2018-10-04T14:52:28.088447Z"
    },
    "scrolled": true
   },
   "outputs": [
    {
     "data": {
      "text/plain": [
       "((903653, 67), (804684, 65))"
      ]
     },
     "execution_count": 39,
     "metadata": {},
     "output_type": "execute_result"
    }
   ],
   "source": [
    "df_train.shape,df_test.shape"
   ]
  },
  {
   "cell_type": "markdown",
   "metadata": {},
   "source": [
    "# Save to feather\n",
    "feather is the format that live in ram, so with this format it's much faster to read"
   ]
  },
  {
   "cell_type": "code",
   "execution_count": 40,
   "metadata": {
    "ExecuteTime": {
     "end_time": "2018-10-04T14:52:32.093242Z",
     "start_time": "2018-10-04T14:52:30.736804Z"
    }
   },
   "outputs": [],
   "source": [
    "df_train.to_feather('../data/train')\n",
    "df_test.to_feather('../data/test')"
   ]
  },
  {
   "cell_type": "code",
   "execution_count": null,
   "metadata": {},
   "outputs": [],
   "source": []
  }
 ],
 "metadata": {
  "kernelspec": {
   "display_name": "Python 3",
   "language": "python",
   "name": "python3"
  },
  "language_info": {
   "codemirror_mode": {
    "name": "ipython",
    "version": 3
   },
   "file_extension": ".py",
   "mimetype": "text/x-python",
   "name": "python",
   "nbconvert_exporter": "python",
   "pygments_lexer": "ipython3",
   "version": "3.6.6"
  },
  "toc": {
   "base_numbering": 1,
   "nav_menu": {},
   "number_sections": true,
   "sideBar": true,
   "skip_h1_title": false,
   "title_cell": "Table of Contents",
   "title_sidebar": "Contents",
   "toc_cell": false,
   "toc_position": {},
   "toc_section_display": true,
   "toc_window_display": false
  }
 },
 "nbformat": 4,
 "nbformat_minor": 2
}
