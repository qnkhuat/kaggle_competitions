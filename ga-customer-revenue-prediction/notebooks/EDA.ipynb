{
 "cells": [
  {
   "cell_type": "markdown",
   "metadata": {
    "toc": true
   },
   "source": [
    "<h1>Table of Contents<span class=\"tocSkip\"></span></h1>\n",
    "<div class=\"toc\"><ul class=\"toc-item\"><li><span><a href=\"#Imports\" data-toc-modified-id=\"Imports-1\"><span class=\"toc-item-num\">1&nbsp;&nbsp;</span>Imports</a></span></li><li><span><a href=\"#Data-walkthrough\" data-toc-modified-id=\"Data-walkthrough-2\"><span class=\"toc-item-num\">2&nbsp;&nbsp;</span>Data walkthrough</a></span></li><li><span><a href=\"#Helpers-functions\" data-toc-modified-id=\"Helpers-functions-3\"><span class=\"toc-item-num\">3&nbsp;&nbsp;</span>Helpers functions</a></span></li><li><span><a href=\"#Base-models\" data-toc-modified-id=\"Base-models-4\"><span class=\"toc-item-num\">4&nbsp;&nbsp;</span>Base models</a></span></li><li><span><a href=\"#Data-engineering\" data-toc-modified-id=\"Data-engineering-5\"><span class=\"toc-item-num\">5&nbsp;&nbsp;</span>Data engineering</a></span><ul class=\"toc-item\"><li><span><a href=\"#Reorder-data\" data-toc-modified-id=\"Reorder-data-5.1\"><span class=\"toc-item-num\">5.1&nbsp;&nbsp;</span>Reorder data</a></span></li></ul></li><li><span><a href=\"#Confidence-based-on-tree-variance\" data-toc-modified-id=\"Confidence-based-on-tree-variance-6\"><span class=\"toc-item-num\">6&nbsp;&nbsp;</span>Confidence based on tree variance</a></span></li><li><span><a href=\"#Feature-Important\" data-toc-modified-id=\"Feature-Important-7\"><span class=\"toc-item-num\">7&nbsp;&nbsp;</span>Feature Important</a></span><ul class=\"toc-item\"><li><span><a href=\"#One-hot-encoding\" data-toc-modified-id=\"One-hot-encoding-7.1\"><span class=\"toc-item-num\">7.1&nbsp;&nbsp;</span>One-hot encoding</a></span></li></ul></li><li><span><a href=\"#Removing-redundant-features\" data-toc-modified-id=\"Removing-redundant-features-8\"><span class=\"toc-item-num\">8&nbsp;&nbsp;</span>Removing redundant features</a></span></li><li><span><a href=\"#Tree-interpreter\" data-toc-modified-id=\"Tree-interpreter-9\"><span class=\"toc-item-num\">9&nbsp;&nbsp;</span>Tree interpreter</a></span></li><li><span><a href=\"#Extrapolation\" data-toc-modified-id=\"Extrapolation-10\"><span class=\"toc-item-num\">10&nbsp;&nbsp;</span>Extrapolation</a></span></li><li><span><a href=\"#Final-model\" data-toc-modified-id=\"Final-model-11\"><span class=\"toc-item-num\">11&nbsp;&nbsp;</span>Final model</a></span></li></ul></div>"
   ]
  },
  {
   "cell_type": "markdown",
   "metadata": {},
   "source": [
    "# Imports"
   ]
  },
  {
   "cell_type": "code",
   "execution_count": 1,
   "metadata": {
    "ExecuteTime": {
     "end_time": "2018-10-04T13:26:49.126267Z",
     "start_time": "2018-10-04T13:26:46.281315Z"
    }
   },
   "outputs": [],
   "source": [
    "import numpy as np\n",
    "import pandas as pd\n",
    "import matplotlib.pyplot as plt\n",
    "import seaborn as sns\n",
    "from sklearn.ensemble import RandomForestRegressor as RFF\n",
    "\n",
    "from pprint import pprint\n",
    "\n",
    "plt.rcParams[\"figure.figsize\"] = (15,6)"
   ]
  },
  {
   "cell_type": "code",
   "execution_count": 2,
   "metadata": {
    "ExecuteTime": {
     "end_time": "2018-10-04T13:26:49.501719Z",
     "start_time": "2018-10-04T13:26:49.128798Z"
    }
   },
   "outputs": [],
   "source": [
    "import sys\n",
    "sys.path.append('..')\n",
    "\n",
    "from fastai.structured import *"
   ]
  },
  {
   "cell_type": "code",
   "execution_count": 3,
   "metadata": {
    "ExecuteTime": {
     "end_time": "2018-10-04T13:26:49.872062Z",
     "start_time": "2018-10-04T13:26:49.504256Z"
    }
   },
   "outputs": [
    {
     "name": "stderr",
     "output_type": "stream",
     "text": [
      "/Users/macbook/miniconda3/envs/dev/lib/python3.6/site-packages/pandas/io/feather_format.py:112: FutureWarning: `nthreads` argument is deprecated, pass `use_threads` instead\n",
      "  return feather.read_dataframe(path, nthreads=nthreads)\n"
     ]
    }
   ],
   "source": [
    "df_raw = pd.read_feather('../data/train')"
   ]
  },
  {
   "cell_type": "code",
   "execution_count": 231,
   "metadata": {
    "ExecuteTime": {
     "end_time": "2018-10-04T14:28:31.355707Z",
     "start_time": "2018-10-04T14:28:31.053260Z"
    }
   },
   "outputs": [
    {
     "data": {
      "text/plain": [
       "Index(['channelGrouping', 'fullVisitorId', 'sessionId', 'socialEngagementType',\n",
       "       'visitId', 'visitNumber', 'visitStartTime', 'Year', 'Month', 'Week',\n",
       "       'Day', 'Dayofweek', 'Dayofyear', 'Is_month_end', 'Is_month_start',\n",
       "       'Is_quarter_end', 'Is_quarter_start', 'Is_year_end', 'Is_year_start',\n",
       "       'Elapsed', 'device_browser', 'device_browserSize',\n",
       "       'device_browserVersion', 'device_deviceCategory', 'device_flashVersion',\n",
       "       'device_isMobile', 'device_language', 'device_mobileDeviceBranding',\n",
       "       'device_mobileDeviceInfo', 'device_mobileDeviceMarketingName',\n",
       "       'device_mobileDeviceModel', 'device_mobileInputSelector',\n",
       "       'device_operatingSystem', 'device_operatingSystemVersion',\n",
       "       'device_screenColors', 'device_screenResolution', 'geoNetwork_city',\n",
       "       'geoNetwork_cityId', 'geoNetwork_continent', 'geoNetwork_country',\n",
       "       'geoNetwork_latitude', 'geoNetwork_longitude', 'geoNetwork_metro',\n",
       "       'geoNetwork_networkDomain', 'geoNetwork_networkLocation',\n",
       "       'geoNetwork_region', 'geoNetwork_subContinent', 'totals_bounces',\n",
       "       'totals_hits', 'totals_newVisits', 'totals_pageviews', 'Revenue',\n",
       "       'totals_visits', 'trafficSource_adContent',\n",
       "       'trafficSource_adwordsClickInfo.adNetworkType',\n",
       "       'trafficSource_adwordsClickInfo.criteriaParameters',\n",
       "       'trafficSource_adwordsClickInfo.gclId',\n",
       "       'trafficSource_adwordsClickInfo.isVideoAd',\n",
       "       'trafficSource_adwordsClickInfo.page',\n",
       "       'trafficSource_adwordsClickInfo.slot', 'trafficSource_campaign',\n",
       "       'trafficSource_campaignCode', 'trafficSource_isTrueDirect',\n",
       "       'trafficSource_keyword', 'trafficSource_medium',\n",
       "       'trafficSource_referralPath', 'trafficSource_source'],\n",
       "      dtype='object')"
      ]
     },
     "execution_count": 231,
     "metadata": {},
     "output_type": "execute_result"
    }
   ],
   "source": [
    "df_raw.rename(columns={'totals_transactionRevenue':'Revenue'},inplace=True)\n",
    "df_raw.columns"
   ]
  },
  {
   "cell_type": "markdown",
   "metadata": {},
   "source": [
    "### Data walkthrough"
   ]
  },
  {
   "cell_type": "code",
   "execution_count": 232,
   "metadata": {
    "ExecuteTime": {
     "end_time": "2018-10-04T14:28:33.992661Z",
     "start_time": "2018-10-04T14:28:33.909777Z"
    },
    "scrolled": false
   },
   "outputs": [
    {
     "data": {
      "text/html": [
       "<div>\n",
       "<style scoped>\n",
       "    .dataframe tbody tr th:only-of-type {\n",
       "        vertical-align: middle;\n",
       "    }\n",
       "\n",
       "    .dataframe tbody tr th {\n",
       "        vertical-align: top;\n",
       "    }\n",
       "\n",
       "    .dataframe thead th {\n",
       "        text-align: right;\n",
       "    }\n",
       "</style>\n",
       "<table border=\"1\" class=\"dataframe\">\n",
       "  <thead>\n",
       "    <tr style=\"text-align: right;\">\n",
       "      <th></th>\n",
       "      <th>channelGrouping</th>\n",
       "      <th>fullVisitorId</th>\n",
       "      <th>sessionId</th>\n",
       "      <th>socialEngagementType</th>\n",
       "      <th>visitId</th>\n",
       "      <th>visitNumber</th>\n",
       "      <th>visitStartTime</th>\n",
       "      <th>Year</th>\n",
       "      <th>Month</th>\n",
       "      <th>Week</th>\n",
       "      <th>...</th>\n",
       "      <th>trafficSource_adwordsClickInfo.isVideoAd</th>\n",
       "      <th>trafficSource_adwordsClickInfo.page</th>\n",
       "      <th>trafficSource_adwordsClickInfo.slot</th>\n",
       "      <th>trafficSource_campaign</th>\n",
       "      <th>trafficSource_campaignCode</th>\n",
       "      <th>trafficSource_isTrueDirect</th>\n",
       "      <th>trafficSource_keyword</th>\n",
       "      <th>trafficSource_medium</th>\n",
       "      <th>trafficSource_referralPath</th>\n",
       "      <th>trafficSource_source</th>\n",
       "    </tr>\n",
       "  </thead>\n",
       "  <tbody>\n",
       "    <tr>\n",
       "      <th>0</th>\n",
       "      <td>Organic Search</td>\n",
       "      <td>1131660440785968503</td>\n",
       "      <td>1131660440785968503_1472830385</td>\n",
       "      <td>NA</td>\n",
       "      <td>1472830385</td>\n",
       "      <td>1</td>\n",
       "      <td>1472830385</td>\n",
       "      <td>2016</td>\n",
       "      <td>9</td>\n",
       "      <td>35</td>\n",
       "      <td>...</td>\n",
       "      <td>NaN</td>\n",
       "      <td>NaN</td>\n",
       "      <td>NaN</td>\n",
       "      <td>NA</td>\n",
       "      <td>NaN</td>\n",
       "      <td>NaN</td>\n",
       "      <td>NA</td>\n",
       "      <td>organic</td>\n",
       "      <td>NaN</td>\n",
       "      <td>google</td>\n",
       "    </tr>\n",
       "    <tr>\n",
       "      <th>1</th>\n",
       "      <td>Organic Search</td>\n",
       "      <td>377306020877927890</td>\n",
       "      <td>377306020877927890_1472880147</td>\n",
       "      <td>NA</td>\n",
       "      <td>1472880147</td>\n",
       "      <td>1</td>\n",
       "      <td>1472880147</td>\n",
       "      <td>2016</td>\n",
       "      <td>9</td>\n",
       "      <td>35</td>\n",
       "      <td>...</td>\n",
       "      <td>NaN</td>\n",
       "      <td>NaN</td>\n",
       "      <td>NaN</td>\n",
       "      <td>NA</td>\n",
       "      <td>NaN</td>\n",
       "      <td>NaN</td>\n",
       "      <td>NA</td>\n",
       "      <td>organic</td>\n",
       "      <td>NaN</td>\n",
       "      <td>google</td>\n",
       "    </tr>\n",
       "    <tr>\n",
       "      <th>2</th>\n",
       "      <td>Organic Search</td>\n",
       "      <td>3895546263509774583</td>\n",
       "      <td>3895546263509774583_1472865386</td>\n",
       "      <td>NA</td>\n",
       "      <td>1472865386</td>\n",
       "      <td>1</td>\n",
       "      <td>1472865386</td>\n",
       "      <td>2016</td>\n",
       "      <td>9</td>\n",
       "      <td>35</td>\n",
       "      <td>...</td>\n",
       "      <td>NaN</td>\n",
       "      <td>NaN</td>\n",
       "      <td>NaN</td>\n",
       "      <td>NA</td>\n",
       "      <td>NaN</td>\n",
       "      <td>NaN</td>\n",
       "      <td>NA</td>\n",
       "      <td>organic</td>\n",
       "      <td>NaN</td>\n",
       "      <td>google</td>\n",
       "    </tr>\n",
       "    <tr>\n",
       "      <th>3</th>\n",
       "      <td>Organic Search</td>\n",
       "      <td>4763447161404445595</td>\n",
       "      <td>4763447161404445595_1472881213</td>\n",
       "      <td>NA</td>\n",
       "      <td>1472881213</td>\n",
       "      <td>1</td>\n",
       "      <td>1472881213</td>\n",
       "      <td>2016</td>\n",
       "      <td>9</td>\n",
       "      <td>35</td>\n",
       "      <td>...</td>\n",
       "      <td>NaN</td>\n",
       "      <td>NaN</td>\n",
       "      <td>NaN</td>\n",
       "      <td>NA</td>\n",
       "      <td>NaN</td>\n",
       "      <td>NaN</td>\n",
       "      <td>google + online</td>\n",
       "      <td>organic</td>\n",
       "      <td>NaN</td>\n",
       "      <td>google</td>\n",
       "    </tr>\n",
       "    <tr>\n",
       "      <th>4</th>\n",
       "      <td>Organic Search</td>\n",
       "      <td>27294437909732085</td>\n",
       "      <td>27294437909732085_1472822600</td>\n",
       "      <td>NA</td>\n",
       "      <td>1472822600</td>\n",
       "      <td>2</td>\n",
       "      <td>1472822600</td>\n",
       "      <td>2016</td>\n",
       "      <td>9</td>\n",
       "      <td>35</td>\n",
       "      <td>...</td>\n",
       "      <td>NaN</td>\n",
       "      <td>NaN</td>\n",
       "      <td>NaN</td>\n",
       "      <td>NA</td>\n",
       "      <td>NaN</td>\n",
       "      <td>True</td>\n",
       "      <td>NA</td>\n",
       "      <td>organic</td>\n",
       "      <td>NaN</td>\n",
       "      <td>google</td>\n",
       "    </tr>\n",
       "  </tbody>\n",
       "</table>\n",
       "<p>5 rows × 67 columns</p>\n",
       "</div>"
      ],
      "text/plain": [
       "  channelGrouping        fullVisitorId                       sessionId  \\\n",
       "0  Organic Search  1131660440785968503  1131660440785968503_1472830385   \n",
       "1  Organic Search   377306020877927890   377306020877927890_1472880147   \n",
       "2  Organic Search  3895546263509774583  3895546263509774583_1472865386   \n",
       "3  Organic Search  4763447161404445595  4763447161404445595_1472881213   \n",
       "4  Organic Search    27294437909732085    27294437909732085_1472822600   \n",
       "\n",
       "  socialEngagementType     visitId  visitNumber  visitStartTime  Year  Month  \\\n",
       "0                   NA  1472830385            1      1472830385  2016      9   \n",
       "1                   NA  1472880147            1      1472880147  2016      9   \n",
       "2                   NA  1472865386            1      1472865386  2016      9   \n",
       "3                   NA  1472881213            1      1472881213  2016      9   \n",
       "4                   NA  1472822600            2      1472822600  2016      9   \n",
       "\n",
       "   Week          ...           trafficSource_adwordsClickInfo.isVideoAd  \\\n",
       "0    35          ...                                                NaN   \n",
       "1    35          ...                                                NaN   \n",
       "2    35          ...                                                NaN   \n",
       "3    35          ...                                                NaN   \n",
       "4    35          ...                                                NaN   \n",
       "\n",
       "   trafficSource_adwordsClickInfo.page  trafficSource_adwordsClickInfo.slot  \\\n",
       "0                                  NaN                                  NaN   \n",
       "1                                  NaN                                  NaN   \n",
       "2                                  NaN                                  NaN   \n",
       "3                                  NaN                                  NaN   \n",
       "4                                  NaN                                  NaN   \n",
       "\n",
       "   trafficSource_campaign  trafficSource_campaignCode  \\\n",
       "0                      NA                         NaN   \n",
       "1                      NA                         NaN   \n",
       "2                      NA                         NaN   \n",
       "3                      NA                         NaN   \n",
       "4                      NA                         NaN   \n",
       "\n",
       "   trafficSource_isTrueDirect  trafficSource_keyword  trafficSource_medium  \\\n",
       "0                         NaN                     NA               organic   \n",
       "1                         NaN                     NA               organic   \n",
       "2                         NaN                     NA               organic   \n",
       "3                         NaN        google + online               organic   \n",
       "4                        True                     NA               organic   \n",
       "\n",
       "   trafficSource_referralPath  trafficSource_source  \n",
       "0                         NaN                google  \n",
       "1                         NaN                google  \n",
       "2                         NaN                google  \n",
       "3                         NaN                google  \n",
       "4                         NaN                google  \n",
       "\n",
       "[5 rows x 67 columns]"
      ]
     },
     "execution_count": 232,
     "metadata": {},
     "output_type": "execute_result"
    }
   ],
   "source": [
    "df_raw.head()"
   ]
  },
  {
   "cell_type": "code",
   "execution_count": 6,
   "metadata": {
    "ExecuteTime": {
     "end_time": "2018-10-04T13:26:50.759154Z",
     "start_time": "2018-10-04T13:26:50.091656Z"
    },
    "scrolled": true
   },
   "outputs": [
    {
     "data": {
      "text/html": [
       "<div>\n",
       "<style scoped>\n",
       "    .dataframe tbody tr th:only-of-type {\n",
       "        vertical-align: middle;\n",
       "    }\n",
       "\n",
       "    .dataframe tbody tr th {\n",
       "        vertical-align: top;\n",
       "    }\n",
       "\n",
       "    .dataframe thead th {\n",
       "        text-align: right;\n",
       "    }\n",
       "</style>\n",
       "<table border=\"1\" class=\"dataframe\">\n",
       "  <thead>\n",
       "    <tr style=\"text-align: right;\">\n",
       "      <th></th>\n",
       "      <th>channelGrouping</th>\n",
       "      <th>fullVisitorId</th>\n",
       "      <th>sessionId</th>\n",
       "      <th>socialEngagementType</th>\n",
       "      <th>visitId</th>\n",
       "      <th>visitNumber</th>\n",
       "      <th>visitStartTime</th>\n",
       "      <th>Year</th>\n",
       "      <th>Month</th>\n",
       "      <th>Week</th>\n",
       "      <th>...</th>\n",
       "      <th>trafficSource_adwordsClickInfo.isVideoAd</th>\n",
       "      <th>trafficSource_adwordsClickInfo.page</th>\n",
       "      <th>trafficSource_adwordsClickInfo.slot</th>\n",
       "      <th>trafficSource_campaign</th>\n",
       "      <th>trafficSource_campaignCode</th>\n",
       "      <th>trafficSource_isTrueDirect</th>\n",
       "      <th>trafficSource_keyword</th>\n",
       "      <th>trafficSource_medium</th>\n",
       "      <th>trafficSource_referralPath</th>\n",
       "      <th>trafficSource_source</th>\n",
       "    </tr>\n",
       "  </thead>\n",
       "  <tbody>\n",
       "    <tr>\n",
       "      <th>count</th>\n",
       "      <td>100000</td>\n",
       "      <td>100000</td>\n",
       "      <td>100000</td>\n",
       "      <td>100000</td>\n",
       "      <td>1.000000e+05</td>\n",
       "      <td>100000.000000</td>\n",
       "      <td>1.000000e+05</td>\n",
       "      <td>100000.000000</td>\n",
       "      <td>100000.000000</td>\n",
       "      <td>100000.00000</td>\n",
       "      <td>...</td>\n",
       "      <td>2574</td>\n",
       "      <td>2574</td>\n",
       "      <td>2574</td>\n",
       "      <td>100000</td>\n",
       "      <td>1</td>\n",
       "      <td>30454</td>\n",
       "      <td>44218</td>\n",
       "      <td>100000</td>\n",
       "      <td>36473</td>\n",
       "      <td>100000</td>\n",
       "    </tr>\n",
       "    <tr>\n",
       "      <th>unique</th>\n",
       "      <td>8</td>\n",
       "      <td>89213</td>\n",
       "      <td>99993</td>\n",
       "      <td>1</td>\n",
       "      <td>NaN</td>\n",
       "      <td>NaN</td>\n",
       "      <td>NaN</td>\n",
       "      <td>NaN</td>\n",
       "      <td>NaN</td>\n",
       "      <td>NaN</td>\n",
       "      <td>...</td>\n",
       "      <td>1</td>\n",
       "      <td>4</td>\n",
       "      <td>2</td>\n",
       "      <td>8</td>\n",
       "      <td>1</td>\n",
       "      <td>1</td>\n",
       "      <td>643</td>\n",
       "      <td>7</td>\n",
       "      <td>527</td>\n",
       "      <td>161</td>\n",
       "    </tr>\n",
       "    <tr>\n",
       "      <th>top</th>\n",
       "      <td>Organic Search</td>\n",
       "      <td>1957458976293878100</td>\n",
       "      <td>7817946123013268752_1480492790</td>\n",
       "      <td>NA</td>\n",
       "      <td>NaN</td>\n",
       "      <td>NaN</td>\n",
       "      <td>NaN</td>\n",
       "      <td>NaN</td>\n",
       "      <td>NaN</td>\n",
       "      <td>NaN</td>\n",
       "      <td>...</td>\n",
       "      <td>False</td>\n",
       "      <td>1</td>\n",
       "      <td>Top</td>\n",
       "      <td>NA</td>\n",
       "      <td>11251kjhkvahf</td>\n",
       "      <td>True</td>\n",
       "      <td>NA</td>\n",
       "      <td>organic</td>\n",
       "      <td>/</td>\n",
       "      <td>google</td>\n",
       "    </tr>\n",
       "    <tr>\n",
       "      <th>freq</th>\n",
       "      <td>42019</td>\n",
       "      <td>44</td>\n",
       "      <td>2</td>\n",
       "      <td>100000</td>\n",
       "      <td>NaN</td>\n",
       "      <td>NaN</td>\n",
       "      <td>NaN</td>\n",
       "      <td>NaN</td>\n",
       "      <td>NaN</td>\n",
       "      <td>NaN</td>\n",
       "      <td>...</td>\n",
       "      <td>2574</td>\n",
       "      <td>2566</td>\n",
       "      <td>2527</td>\n",
       "      <td>95442</td>\n",
       "      <td>1</td>\n",
       "      <td>30454</td>\n",
       "      <td>40273</td>\n",
       "      <td>42019</td>\n",
       "      <td>8731</td>\n",
       "      <td>44448</td>\n",
       "    </tr>\n",
       "    <tr>\n",
       "      <th>mean</th>\n",
       "      <td>NaN</td>\n",
       "      <td>NaN</td>\n",
       "      <td>NaN</td>\n",
       "      <td>NaN</td>\n",
       "      <td>1.484710e+09</td>\n",
       "      <td>2.274210</td>\n",
       "      <td>1.484710e+09</td>\n",
       "      <td>2016.459050</td>\n",
       "      <td>7.520690</td>\n",
       "      <td>30.91058</td>\n",
       "      <td>...</td>\n",
       "      <td>NaN</td>\n",
       "      <td>NaN</td>\n",
       "      <td>NaN</td>\n",
       "      <td>NaN</td>\n",
       "      <td>NaN</td>\n",
       "      <td>NaN</td>\n",
       "      <td>NaN</td>\n",
       "      <td>NaN</td>\n",
       "      <td>NaN</td>\n",
       "      <td>NaN</td>\n",
       "    </tr>\n",
       "    <tr>\n",
       "      <th>std</th>\n",
       "      <td>NaN</td>\n",
       "      <td>NaN</td>\n",
       "      <td>NaN</td>\n",
       "      <td>NaN</td>\n",
       "      <td>9.166865e+06</td>\n",
       "      <td>9.260941</td>\n",
       "      <td>9.166865e+06</td>\n",
       "      <td>0.498323</td>\n",
       "      <td>3.386258</td>\n",
       "      <td>14.85400</td>\n",
       "      <td>...</td>\n",
       "      <td>NaN</td>\n",
       "      <td>NaN</td>\n",
       "      <td>NaN</td>\n",
       "      <td>NaN</td>\n",
       "      <td>NaN</td>\n",
       "      <td>NaN</td>\n",
       "      <td>NaN</td>\n",
       "      <td>NaN</td>\n",
       "      <td>NaN</td>\n",
       "      <td>NaN</td>\n",
       "    </tr>\n",
       "    <tr>\n",
       "      <th>min</th>\n",
       "      <td>NaN</td>\n",
       "      <td>NaN</td>\n",
       "      <td>NaN</td>\n",
       "      <td>NaN</td>\n",
       "      <td>1.470896e+09</td>\n",
       "      <td>1.000000</td>\n",
       "      <td>1.470899e+09</td>\n",
       "      <td>2016.000000</td>\n",
       "      <td>1.000000</td>\n",
       "      <td>2.00000</td>\n",
       "      <td>...</td>\n",
       "      <td>NaN</td>\n",
       "      <td>NaN</td>\n",
       "      <td>NaN</td>\n",
       "      <td>NaN</td>\n",
       "      <td>NaN</td>\n",
       "      <td>NaN</td>\n",
       "      <td>NaN</td>\n",
       "      <td>NaN</td>\n",
       "      <td>NaN</td>\n",
       "      <td>NaN</td>\n",
       "    </tr>\n",
       "    <tr>\n",
       "      <th>25%</th>\n",
       "      <td>NaN</td>\n",
       "      <td>NaN</td>\n",
       "      <td>NaN</td>\n",
       "      <td>NaN</td>\n",
       "      <td>1.478832e+09</td>\n",
       "      <td>1.000000</td>\n",
       "      <td>1.478832e+09</td>\n",
       "      <td>2016.000000</td>\n",
       "      <td>5.000000</td>\n",
       "      <td>20.00000</td>\n",
       "      <td>...</td>\n",
       "      <td>NaN</td>\n",
       "      <td>NaN</td>\n",
       "      <td>NaN</td>\n",
       "      <td>NaN</td>\n",
       "      <td>NaN</td>\n",
       "      <td>NaN</td>\n",
       "      <td>NaN</td>\n",
       "      <td>NaN</td>\n",
       "      <td>NaN</td>\n",
       "      <td>NaN</td>\n",
       "    </tr>\n",
       "    <tr>\n",
       "      <th>50%</th>\n",
       "      <td>NaN</td>\n",
       "      <td>NaN</td>\n",
       "      <td>NaN</td>\n",
       "      <td>NaN</td>\n",
       "      <td>1.481667e+09</td>\n",
       "      <td>1.000000</td>\n",
       "      <td>1.481667e+09</td>\n",
       "      <td>2016.000000</td>\n",
       "      <td>8.000000</td>\n",
       "      <td>33.00000</td>\n",
       "      <td>...</td>\n",
       "      <td>NaN</td>\n",
       "      <td>NaN</td>\n",
       "      <td>NaN</td>\n",
       "      <td>NaN</td>\n",
       "      <td>NaN</td>\n",
       "      <td>NaN</td>\n",
       "      <td>NaN</td>\n",
       "      <td>NaN</td>\n",
       "      <td>NaN</td>\n",
       "      <td>NaN</td>\n",
       "    </tr>\n",
       "    <tr>\n",
       "      <th>75%</th>\n",
       "      <td>NaN</td>\n",
       "      <td>NaN</td>\n",
       "      <td>NaN</td>\n",
       "      <td>NaN</td>\n",
       "      <td>1.493684e+09</td>\n",
       "      <td>1.000000</td>\n",
       "      <td>1.493684e+09</td>\n",
       "      <td>2017.000000</td>\n",
       "      <td>11.000000</td>\n",
       "      <td>46.00000</td>\n",
       "      <td>...</td>\n",
       "      <td>NaN</td>\n",
       "      <td>NaN</td>\n",
       "      <td>NaN</td>\n",
       "      <td>NaN</td>\n",
       "      <td>NaN</td>\n",
       "      <td>NaN</td>\n",
       "      <td>NaN</td>\n",
       "      <td>NaN</td>\n",
       "      <td>NaN</td>\n",
       "      <td>NaN</td>\n",
       "    </tr>\n",
       "    <tr>\n",
       "      <th>max</th>\n",
       "      <td>NaN</td>\n",
       "      <td>NaN</td>\n",
       "      <td>NaN</td>\n",
       "      <td>NaN</td>\n",
       "      <td>1.501657e+09</td>\n",
       "      <td>389.000000</td>\n",
       "      <td>1.501657e+09</td>\n",
       "      <td>2017.000000</td>\n",
       "      <td>12.000000</td>\n",
       "      <td>50.00000</td>\n",
       "      <td>...</td>\n",
       "      <td>NaN</td>\n",
       "      <td>NaN</td>\n",
       "      <td>NaN</td>\n",
       "      <td>NaN</td>\n",
       "      <td>NaN</td>\n",
       "      <td>NaN</td>\n",
       "      <td>NaN</td>\n",
       "      <td>NaN</td>\n",
       "      <td>NaN</td>\n",
       "      <td>NaN</td>\n",
       "    </tr>\n",
       "  </tbody>\n",
       "</table>\n",
       "<p>11 rows × 67 columns</p>\n",
       "</div>"
      ],
      "text/plain": [
       "       channelGrouping        fullVisitorId                       sessionId  \\\n",
       "count           100000               100000                          100000   \n",
       "unique               8                89213                           99993   \n",
       "top     Organic Search  1957458976293878100  7817946123013268752_1480492790   \n",
       "freq             42019                   44                               2   \n",
       "mean               NaN                  NaN                             NaN   \n",
       "std                NaN                  NaN                             NaN   \n",
       "min                NaN                  NaN                             NaN   \n",
       "25%                NaN                  NaN                             NaN   \n",
       "50%                NaN                  NaN                             NaN   \n",
       "75%                NaN                  NaN                             NaN   \n",
       "max                NaN                  NaN                             NaN   \n",
       "\n",
       "       socialEngagementType       visitId    visitNumber  visitStartTime  \\\n",
       "count                100000  1.000000e+05  100000.000000    1.000000e+05   \n",
       "unique                    1           NaN            NaN             NaN   \n",
       "top                      NA           NaN            NaN             NaN   \n",
       "freq                 100000           NaN            NaN             NaN   \n",
       "mean                    NaN  1.484710e+09       2.274210    1.484710e+09   \n",
       "std                     NaN  9.166865e+06       9.260941    9.166865e+06   \n",
       "min                     NaN  1.470896e+09       1.000000    1.470899e+09   \n",
       "25%                     NaN  1.478832e+09       1.000000    1.478832e+09   \n",
       "50%                     NaN  1.481667e+09       1.000000    1.481667e+09   \n",
       "75%                     NaN  1.493684e+09       1.000000    1.493684e+09   \n",
       "max                     NaN  1.501657e+09     389.000000    1.501657e+09   \n",
       "\n",
       "                 Year          Month          Week          ...           \\\n",
       "count   100000.000000  100000.000000  100000.00000          ...            \n",
       "unique            NaN            NaN           NaN          ...            \n",
       "top               NaN            NaN           NaN          ...            \n",
       "freq              NaN            NaN           NaN          ...            \n",
       "mean      2016.459050       7.520690      30.91058          ...            \n",
       "std          0.498323       3.386258      14.85400          ...            \n",
       "min       2016.000000       1.000000       2.00000          ...            \n",
       "25%       2016.000000       5.000000      20.00000          ...            \n",
       "50%       2016.000000       8.000000      33.00000          ...            \n",
       "75%       2017.000000      11.000000      46.00000          ...            \n",
       "max       2017.000000      12.000000      50.00000          ...            \n",
       "\n",
       "        trafficSource_adwordsClickInfo.isVideoAd  \\\n",
       "count                                       2574   \n",
       "unique                                         1   \n",
       "top                                        False   \n",
       "freq                                        2574   \n",
       "mean                                         NaN   \n",
       "std                                          NaN   \n",
       "min                                          NaN   \n",
       "25%                                          NaN   \n",
       "50%                                          NaN   \n",
       "75%                                          NaN   \n",
       "max                                          NaN   \n",
       "\n",
       "        trafficSource_adwordsClickInfo.page  \\\n",
       "count                                  2574   \n",
       "unique                                    4   \n",
       "top                                       1   \n",
       "freq                                   2566   \n",
       "mean                                    NaN   \n",
       "std                                     NaN   \n",
       "min                                     NaN   \n",
       "25%                                     NaN   \n",
       "50%                                     NaN   \n",
       "75%                                     NaN   \n",
       "max                                     NaN   \n",
       "\n",
       "        trafficSource_adwordsClickInfo.slot trafficSource_campaign  \\\n",
       "count                                  2574                 100000   \n",
       "unique                                    2                      8   \n",
       "top                                     Top                     NA   \n",
       "freq                                   2527                  95442   \n",
       "mean                                    NaN                    NaN   \n",
       "std                                     NaN                    NaN   \n",
       "min                                     NaN                    NaN   \n",
       "25%                                     NaN                    NaN   \n",
       "50%                                     NaN                    NaN   \n",
       "75%                                     NaN                    NaN   \n",
       "max                                     NaN                    NaN   \n",
       "\n",
       "       trafficSource_campaignCode trafficSource_isTrueDirect  \\\n",
       "count                           1                      30454   \n",
       "unique                          1                          1   \n",
       "top                 11251kjhkvahf                       True   \n",
       "freq                            1                      30454   \n",
       "mean                          NaN                        NaN   \n",
       "std                           NaN                        NaN   \n",
       "min                           NaN                        NaN   \n",
       "25%                           NaN                        NaN   \n",
       "50%                           NaN                        NaN   \n",
       "75%                           NaN                        NaN   \n",
       "max                           NaN                        NaN   \n",
       "\n",
       "       trafficSource_keyword trafficSource_medium trafficSource_referralPath  \\\n",
       "count                  44218               100000                      36473   \n",
       "unique                   643                    7                        527   \n",
       "top                       NA              organic                          /   \n",
       "freq                   40273                42019                       8731   \n",
       "mean                     NaN                  NaN                        NaN   \n",
       "std                      NaN                  NaN                        NaN   \n",
       "min                      NaN                  NaN                        NaN   \n",
       "25%                      NaN                  NaN                        NaN   \n",
       "50%                      NaN                  NaN                        NaN   \n",
       "75%                      NaN                  NaN                        NaN   \n",
       "max                      NaN                  NaN                        NaN   \n",
       "\n",
       "        trafficSource_source  \n",
       "count                 100000  \n",
       "unique                   161  \n",
       "top                   google  \n",
       "freq                   44448  \n",
       "mean                     NaN  \n",
       "std                      NaN  \n",
       "min                      NaN  \n",
       "25%                      NaN  \n",
       "50%                      NaN  \n",
       "75%                      NaN  \n",
       "max                      NaN  \n",
       "\n",
       "[11 rows x 67 columns]"
      ]
     },
     "execution_count": 6,
     "metadata": {},
     "output_type": "execute_result"
    }
   ],
   "source": [
    "df_raw.describe(include='all')"
   ]
  },
  {
   "cell_type": "code",
   "execution_count": 7,
   "metadata": {
    "ExecuteTime": {
     "end_time": "2018-10-04T13:26:50.875776Z",
     "start_time": "2018-10-04T13:26:50.761267Z"
    },
    "scrolled": true
   },
   "outputs": [
    {
     "data": {
      "text/plain": [
       "channelGrouping                                          0\n",
       "device_mobileDeviceMarketingName                         0\n",
       "device_mobileDeviceModel                                 0\n",
       "device_mobileInputSelector                               0\n",
       "device_operatingSystem                                   0\n",
       "device_screenColors                                      0\n",
       "device_screenResolution                                  0\n",
       "geoNetwork_city                                          0\n",
       "geoNetwork_cityId                                        0\n",
       "geoNetwork_continent                                     0\n",
       "geoNetwork_country                                       0\n",
       "geoNetwork_latitude                                      0\n",
       "geoNetwork_longitude                                     0\n",
       "geoNetwork_metro                                         0\n",
       "geoNetwork_networkDomain                                 0\n",
       "geoNetwork_networkLocation                               0\n",
       "geoNetwork_region                                        0\n",
       "geoNetwork_subContinent                                  0\n",
       "totals_hits                                              0\n",
       "Revenue                                                  0\n",
       "totals_visits                                            0\n",
       "trafficSource_adwordsClickInfo.criteriaParameters        0\n",
       "trafficSource_campaign                                   0\n",
       "trafficSource_medium                                     0\n",
       "device_mobileDeviceInfo                                  0\n",
       "device_mobileDeviceBranding                              0\n",
       "device_operatingSystemVersion                            0\n",
       "device_isMobile                                          0\n",
       "fullVisitorId                                            0\n",
       "sessionId                                                0\n",
       "                                                     ...  \n",
       "Day                                                      0\n",
       "Dayofweek                                                0\n",
       "Dayofyear                                                0\n",
       "Year                                                     0\n",
       "Is_month_start                                           0\n",
       "device_flashVersion                                      0\n",
       "device_deviceCategory                                    0\n",
       "device_browserVersion                                    0\n",
       "Is_month_end                                             0\n",
       "device_browserSize                                       0\n",
       "device_browser                                           0\n",
       "trafficSource_source                                     0\n",
       "Elapsed                                                  0\n",
       "Is_year_start                                            0\n",
       "Is_quarter_end                                           0\n",
       "Is_year_end                                              0\n",
       "Is_quarter_start                                         0\n",
       "totals_pageviews                                         7\n",
       "totals_newVisits                                     22737\n",
       "totals_bounces                                       51084\n",
       "trafficSource_keyword                                55782\n",
       "trafficSource_referralPath                           63527\n",
       "trafficSource_isTrueDirect                           69546\n",
       "trafficSource_adwordsClickInfo.gclId                 97375\n",
       "trafficSource_adwordsClickInfo.isVideoAd             97426\n",
       "trafficSource_adwordsClickInfo.slot                  97426\n",
       "trafficSource_adwordsClickInfo.page                  97426\n",
       "trafficSource_adwordsClickInfo.adNetworkType         97426\n",
       "trafficSource_adContent                              98675\n",
       "trafficSource_campaignCode                           99999\n",
       "Length: 67, dtype: int64"
      ]
     },
     "execution_count": 7,
     "metadata": {},
     "output_type": "execute_result"
    }
   ],
   "source": [
    "df_raw.isnull().sum().sort_values()"
   ]
  },
  {
   "cell_type": "markdown",
   "metadata": {},
   "source": [
    "# Helpers functions"
   ]
  },
  {
   "cell_type": "code",
   "execution_count": 8,
   "metadata": {
    "ExecuteTime": {
     "end_time": "2018-10-04T13:26:51.585706Z",
     "start_time": "2018-10-04T13:26:51.581088Z"
    }
   },
   "outputs": [],
   "source": [
    "def rmse(x,y): \n",
    "    return math.sqrt(((x-y)**2).mean())\n",
    "\n",
    "def print_score(m):\n",
    "    res = {'rmse_train':rmse(m.predict(X_train), y_train), 'rmse_valid':rmse(m.predict(X_valid), y_valid),\n",
    "                'r2_train':m.score(X_train, y_train), 'r2_valid':m.score(X_valid, y_valid)}\n",
    "    if hasattr(m, 'oob_score_'): res['r2_oob']= m.oob_score_\n",
    "    pprint(res)"
   ]
  },
  {
   "cell_type": "code",
   "execution_count": 214,
   "metadata": {
    "ExecuteTime": {
     "end_time": "2018-10-04T14:20:13.690480Z",
     "start_time": "2018-10-04T14:20:13.686063Z"
    }
   },
   "outputs": [],
   "source": [
    "def base_model(oob_score=True):\n",
    "    global m\n",
    "    m = RFF(n_jobs=-1,n_estimators=20,oob_score=oob_score)\n",
    "    m.fit(X_train, y_train)\n",
    "    print_score(m)"
   ]
  },
  {
   "cell_type": "code",
   "execution_count": 66,
   "metadata": {
    "ExecuteTime": {
     "end_time": "2018-10-04T13:53:16.768176Z",
     "start_time": "2018-10-04T13:53:16.762462Z"
    }
   },
   "outputs": [],
   "source": [
    "n_trn = 70000\n",
    "\n",
    "def split_vals(a,n) : return a[:n],a[n:]\n",
    "\n",
    "def split_data(n_trn = 70000,to_keep=None):\n",
    "    global X_train,X_valid,y_train,y_valid,raw_train,raw_valid,df_trn,y_trn\n",
    "    \n",
    "    raw_train, raw_valid = split_vals(df_raw, n_trn)\n",
    "    \n",
    "    df_trn, y_trn, nas = proc_df(df_raw, 'Revenue')\n",
    "    \n",
    "    if to_keep is not None:\n",
    "        df_trn = df_trn[to_keep].copy()\n",
    "    \n",
    "    y_trn = np.log1p(y_trn)\n",
    "    \n",
    "    X_train, X_valid = split_vals(df_trn, n_trn)\n",
    "    y_train, y_valid = split_vals(y_trn, n_trn)\n",
    "    \n",
    "    "
   ]
  },
  {
   "cell_type": "code",
   "execution_count": 11,
   "metadata": {
    "ExecuteTime": {
     "end_time": "2018-10-04T13:26:52.357877Z",
     "start_time": "2018-10-04T13:26:52.354084Z"
    }
   },
   "outputs": [],
   "source": [
    "def plot_fi(fi): \n",
    "    return fi.plot('cols', 'imp', 'barh', figsize=(12,7), legend=False)"
   ]
  },
  {
   "cell_type": "markdown",
   "metadata": {},
   "source": [
    "# Base models"
   ]
  },
  {
   "cell_type": "code",
   "execution_count": 36,
   "metadata": {
    "ExecuteTime": {
     "end_time": "2018-10-04T13:44:30.896402Z",
     "start_time": "2018-10-04T13:44:30.689737Z"
    },
    "scrolled": true
   },
   "outputs": [],
   "source": [
    "split_data()"
   ]
  },
  {
   "cell_type": "code",
   "execution_count": 37,
   "metadata": {
    "ExecuteTime": {
     "end_time": "2018-10-04T13:44:34.502115Z",
     "start_time": "2018-10-04T13:44:30.898826Z"
    },
    "scrolled": true
   },
   "outputs": [
    {
     "name": "stderr",
     "output_type": "stream",
     "text": [
      "/Users/macbook/miniconda3/envs/dev/lib/python3.6/site-packages/sklearn/ensemble/forest.py:732: UserWarning: Some inputs do not have OOB scores. This probably means too few trees were used to compute any reliable oob estimates.\n",
      "  warn(\"Some inputs do not have OOB scores. \"\n"
     ]
    },
    {
     "name": "stdout",
     "output_type": "stream",
     "text": [
      "{'r2_oob': 0.16297263199118905,\n",
      " 'r2_train': 0.8810752181855306,\n",
      " 'r2_valid': 0.2573883904293486,\n",
      " 'rmse_train': 0.6890227071948529,\n",
      " 'rmse_valid': 1.9962417315766017}\n"
     ]
    }
   ],
   "source": [
    "base_model()"
   ]
  },
  {
   "cell_type": "markdown",
   "metadata": {},
   "source": [
    "# Data engineering"
   ]
  },
  {
   "cell_type": "markdown",
   "metadata": {},
   "source": [
    "## Reorder data"
   ]
  },
  {
   "cell_type": "code",
   "execution_count": 14,
   "metadata": {
    "ExecuteTime": {
     "end_time": "2018-10-04T13:26:58.473661Z",
     "start_time": "2018-10-04T13:26:58.463249Z"
    }
   },
   "outputs": [
    {
     "data": {
      "text/plain": [
       "Index(['channelGrouping', 'fullVisitorId', 'sessionId', 'socialEngagementType',\n",
       "       'visitId', 'visitNumber', 'visitStartTime', 'Year', 'Month', 'Week',\n",
       "       'Day', 'Dayofweek', 'Dayofyear', 'Is_month_end', 'Is_month_start',\n",
       "       'Is_quarter_end', 'Is_quarter_start', 'Is_year_end', 'Is_year_start',\n",
       "       'Elapsed', 'device_browser', 'device_browserSize',\n",
       "       'device_browserVersion', 'device_deviceCategory', 'device_flashVersion',\n",
       "       'device_isMobile', 'device_language', 'device_mobileDeviceBranding',\n",
       "       'device_mobileDeviceInfo', 'device_mobileDeviceMarketingName',\n",
       "       'device_mobileDeviceModel', 'device_mobileInputSelector',\n",
       "       'device_operatingSystem', 'device_operatingSystemVersion',\n",
       "       'device_screenColors', 'device_screenResolution', 'geoNetwork_city',\n",
       "       'geoNetwork_cityId', 'geoNetwork_continent', 'geoNetwork_country',\n",
       "       'geoNetwork_latitude', 'geoNetwork_longitude', 'geoNetwork_metro',\n",
       "       'geoNetwork_networkDomain', 'geoNetwork_networkLocation',\n",
       "       'geoNetwork_region', 'geoNetwork_subContinent', 'totals_bounces',\n",
       "       'totals_hits', 'totals_newVisits', 'totals_pageviews', 'Revenue',\n",
       "       'totals_visits', 'trafficSource_adContent',\n",
       "       'trafficSource_adwordsClickInfo.adNetworkType',\n",
       "       'trafficSource_adwordsClickInfo.criteriaParameters',\n",
       "       'trafficSource_adwordsClickInfo.gclId',\n",
       "       'trafficSource_adwordsClickInfo.isVideoAd',\n",
       "       'trafficSource_adwordsClickInfo.page',\n",
       "       'trafficSource_adwordsClickInfo.slot', 'trafficSource_campaign',\n",
       "       'trafficSource_campaignCode', 'trafficSource_isTrueDirect',\n",
       "       'trafficSource_keyword', 'trafficSource_medium',\n",
       "       'trafficSource_referralPath', 'trafficSource_source'],\n",
       "      dtype='object')"
      ]
     },
     "execution_count": 14,
     "metadata": {},
     "output_type": "execute_result"
    }
   ],
   "source": [
    "df_raw.columns"
   ]
  },
  {
   "cell_type": "code",
   "execution_count": 15,
   "metadata": {
    "ExecuteTime": {
     "end_time": "2018-10-04T13:26:58.489142Z",
     "start_time": "2018-10-04T13:26:58.476123Z"
    }
   },
   "outputs": [],
   "source": [
    "to_sort = ['totals_pageviews','totals_hits']\n",
    "for cat in to_sort:\n",
    "    orders = np.array(sorted(df_raw[cat].cat.categories.astype(np.int32))).astype(np.str)\n",
    "    df_raw[cat].cat.reorder_categories(orders,inplace=True)"
   ]
  },
  {
   "cell_type": "code",
   "execution_count": 16,
   "metadata": {
    "ExecuteTime": {
     "end_time": "2018-10-04T13:26:58.669078Z",
     "start_time": "2018-10-04T13:26:58.491150Z"
    }
   },
   "outputs": [],
   "source": [
    "split_data()"
   ]
  },
  {
   "cell_type": "code",
   "execution_count": 38,
   "metadata": {
    "ExecuteTime": {
     "end_time": "2018-10-04T13:44:51.280774Z",
     "start_time": "2018-10-04T13:44:47.582093Z"
    }
   },
   "outputs": [
    {
     "name": "stderr",
     "output_type": "stream",
     "text": [
      "/Users/macbook/miniconda3/envs/dev/lib/python3.6/site-packages/sklearn/ensemble/forest.py:732: UserWarning: Some inputs do not have OOB scores. This probably means too few trees were used to compute any reliable oob estimates.\n",
      "  warn(\"Some inputs do not have OOB scores. \"\n"
     ]
    },
    {
     "name": "stdout",
     "output_type": "stream",
     "text": [
      "{'r2_oob': 0.1686974258099353,\n",
      " 'r2_train': 0.8804045738778736,\n",
      " 'r2_valid': 0.2449195532676807,\n",
      " 'rmse_train': 0.690962755025633,\n",
      " 'rmse_valid': 2.01293093922232}\n"
     ]
    }
   ],
   "source": [
    "base_model()"
   ]
  },
  {
   "cell_type": "markdown",
   "metadata": {},
   "source": [
    "Much better when do this haha"
   ]
  },
  {
   "cell_type": "markdown",
   "metadata": {
    "heading_collapsed": true
   },
   "source": [
    "# Confidence based on tree variance"
   ]
  },
  {
   "cell_type": "code",
   "execution_count": 213,
   "metadata": {
    "ExecuteTime": {
     "end_time": "2018-10-04T09:07:38.955797Z",
     "start_time": "2018-10-04T09:07:36.634218Z"
    },
    "hidden": true
   },
   "outputs": [
    {
     "name": "stderr",
     "output_type": "stream",
     "text": [
      "/Users/macbook/miniconda3/envs/dev/lib/python3.6/site-packages/sklearn/ensemble/forest.py:732: UserWarning: Some inputs do not have OOB scores. This probably means too few trees were used to compute any reliable oob estimates.\n",
      "  warn(\"Some inputs do not have OOB scores. \"\n"
     ]
    },
    {
     "name": "stdout",
     "output_type": "stream",
     "text": [
      "{'r2_oob': 0.13838250722902623,\n",
      " 'r2_train': 0.8747750315827627,\n",
      " 'r2_valid': 0.2095851047911721,\n",
      " 'rmse_train': 0.707038101962937,\n",
      " 'rmse_valid': 2.059490632840232}\n"
     ]
    }
   ],
   "source": [
    "base_model()"
   ]
  },
  {
   "cell_type": "markdown",
   "metadata": {
    "hidden": true
   },
   "source": [
    "We saw how the model averages predictions across the trees to get an estimate - but how can we know the confidence of the estimate? One simple way is to use the standard deviation of predictions, instead of just the mean. This tells us the relative confidence of predictions - that is, for rows where the trees give very different results, you would want to be more cautious of using those results, compared to cases where they are more consistent. Using the same example as in the last lesson when we looked at bagging:"
   ]
  },
  {
   "cell_type": "code",
   "execution_count": 214,
   "metadata": {
    "ExecuteTime": {
     "end_time": "2018-10-04T09:07:39.647649Z",
     "start_time": "2018-10-04T09:07:39.478528Z"
    },
    "hidden": true
   },
   "outputs": [
    {
     "name": "stdout",
     "output_type": "stream",
     "text": [
      "CPU times: user 38.7 ms, sys: 52.1 ms, total: 90.8 ms\n",
      "Wall time: 148 ms\n"
     ]
    },
    {
     "data": {
      "text/plain": [
       "(0.89056615537573, 3.8818878738203493)"
      ]
     },
     "execution_count": 214,
     "metadata": {},
     "output_type": "execute_result"
    }
   ],
   "source": [
    "def get_preds(t): return t.predict(X_valid)\n",
    "%time preds = np.stack(parallel_trees(m, get_preds))\n",
    "np.mean(preds[:,0]), np.std(preds[:,0])"
   ]
  },
  {
   "cell_type": "markdown",
   "metadata": {
    "hidden": true
   },
   "source": [
    "The results is just terible"
   ]
  },
  {
   "cell_type": "code",
   "execution_count": 215,
   "metadata": {
    "ExecuteTime": {
     "end_time": "2018-10-04T09:07:41.108604Z",
     "start_time": "2018-10-04T09:07:40.762916Z"
    },
    "hidden": true
   },
   "outputs": [
    {
     "data": {
      "image/png": "[encoded data removed]",
      "text/plain": [
       "<Figure size 1080x432 with 1 Axes>"
      ]
     },
     "metadata": {
      "needs_background": "light"
     },
     "output_type": "display_data"
    }
   ],
   "source": [
    "x = raw_valid.copy()\n",
    "x['pred_std'] = np.std(preds, axis=0)\n",
    "x['pred'] = np.mean(preds, axis=0)\n",
    "x.totals_hits.value_counts()[:20].plot.barh();"
   ]
  },
  {
   "cell_type": "code",
   "execution_count": 216,
   "metadata": {
    "ExecuteTime": {
     "end_time": "2018-10-04T09:07:42.556404Z",
     "start_time": "2018-10-04T09:07:42.183067Z"
    },
    "hidden": true
   },
   "outputs": [
    {
     "data": {
      "image/png": "[encoded data removed]",
      "text/plain": [
       "<Figure size 1080x432 with 1 Axes>"
      ]
     },
     "metadata": {
      "needs_background": "light"
     },
     "output_type": "display_data"
    }
   ],
   "source": [
    "x = raw_valid.copy()\n",
    "x['pred_std'] = np.std(preds, axis=0)\n",
    "x['pred'] = np.mean(preds, axis=0)\n",
    "x.geoNetwork_networkDomain.value_counts()[:20].plot.barh();"
   ]
  },
  {
   "cell_type": "markdown",
   "metadata": {},
   "source": [
    "# Feature Important"
   ]
  },
  {
   "cell_type": "code",
   "execution_count": 85,
   "metadata": {
    "ExecuteTime": {
     "end_time": "2018-10-04T13:55:28.292276Z",
     "start_time": "2018-10-04T13:55:24.456560Z"
    }
   },
   "outputs": [
    {
     "name": "stdout",
     "output_type": "stream",
     "text": [
      "{'r2_oob': 0.17406764389419582,\n",
      " 'r2_train': 0.8824749963432134,\n",
      " 'r2_valid': 0.23820778425879696,\n",
      " 'rmse_train': 0.6849557087347439,\n",
      " 'rmse_valid': 2.021857430138216}\n"
     ]
    }
   ],
   "source": [
    "split_data()\n",
    "base_model()"
   ]
  },
  {
   "cell_type": "code",
   "execution_count": 86,
   "metadata": {
    "ExecuteTime": {
     "end_time": "2018-10-04T13:55:28.413177Z",
     "start_time": "2018-10-04T13:55:28.295543Z"
    },
    "scrolled": true
   },
   "outputs": [
    {
     "data": {
      "text/html": [
       "<div>\n",
       "<style scoped>\n",
       "    .dataframe tbody tr th:only-of-type {\n",
       "        vertical-align: middle;\n",
       "    }\n",
       "\n",
       "    .dataframe tbody tr th {\n",
       "        vertical-align: top;\n",
       "    }\n",
       "\n",
       "    .dataframe thead th {\n",
       "        text-align: right;\n",
       "    }\n",
       "</style>\n",
       "<table border=\"1\" class=\"dataframe\">\n",
       "  <thead>\n",
       "    <tr style=\"text-align: right;\">\n",
       "      <th></th>\n",
       "      <th>cols</th>\n",
       "      <th>imp</th>\n",
       "    </tr>\n",
       "  </thead>\n",
       "  <tbody>\n",
       "    <tr>\n",
       "      <th>50</th>\n",
       "      <td>totals_pageviews</td>\n",
       "      <td>0.245791</td>\n",
       "    </tr>\n",
       "    <tr>\n",
       "      <th>48</th>\n",
       "      <td>totals_hits</td>\n",
       "      <td>0.066034</td>\n",
       "    </tr>\n",
       "    <tr>\n",
       "      <th>6</th>\n",
       "      <td>visitStartTime</td>\n",
       "      <td>0.060605</td>\n",
       "    </tr>\n",
       "    <tr>\n",
       "      <th>2</th>\n",
       "      <td>sessionId</td>\n",
       "      <td>0.060212</td>\n",
       "    </tr>\n",
       "    <tr>\n",
       "      <th>39</th>\n",
       "      <td>geoNetwork_country</td>\n",
       "      <td>0.056124</td>\n",
       "    </tr>\n",
       "    <tr>\n",
       "      <th>1</th>\n",
       "      <td>fullVisitorId</td>\n",
       "      <td>0.055513</td>\n",
       "    </tr>\n",
       "    <tr>\n",
       "      <th>4</th>\n",
       "      <td>visitId</td>\n",
       "      <td>0.053637</td>\n",
       "    </tr>\n",
       "    <tr>\n",
       "      <th>43</th>\n",
       "      <td>geoNetwork_networkDomain</td>\n",
       "      <td>0.038531</td>\n",
       "    </tr>\n",
       "    <tr>\n",
       "      <th>5</th>\n",
       "      <td>visitNumber</td>\n",
       "      <td>0.035169</td>\n",
       "    </tr>\n",
       "    <tr>\n",
       "      <th>36</th>\n",
       "      <td>geoNetwork_city</td>\n",
       "      <td>0.029837</td>\n",
       "    </tr>\n",
       "  </tbody>\n",
       "</table>\n",
       "</div>"
      ],
      "text/plain": [
       "                        cols       imp\n",
       "50          totals_pageviews  0.245791\n",
       "48               totals_hits  0.066034\n",
       "6             visitStartTime  0.060605\n",
       "2                  sessionId  0.060212\n",
       "39        geoNetwork_country  0.056124\n",
       "1              fullVisitorId  0.055513\n",
       "4                    visitId  0.053637\n",
       "43  geoNetwork_networkDomain  0.038531\n",
       "5                visitNumber  0.035169\n",
       "36           geoNetwork_city  0.029837"
      ]
     },
     "execution_count": 86,
     "metadata": {},
     "output_type": "execute_result"
    }
   ],
   "source": [
    "fi = rf_feat_importance(m, df_trn); fi[:10]"
   ]
  },
  {
   "cell_type": "code",
   "execution_count": 87,
   "metadata": {
    "ExecuteTime": {
     "end_time": "2018-10-04T13:55:28.963860Z",
     "start_time": "2018-10-04T13:55:28.415748Z"
    },
    "scrolled": false
   },
   "outputs": [
    {
     "data": {
      "text/plain": [
       "<matplotlib.axes._subplots.AxesSubplot at 0x12d07c5f8>"
      ]
     },
     "execution_count": 87,
     "metadata": {},
     "output_type": "execute_result"
    },
    {
     "data": {
      "image/png": "[encoded data removed]",
      "text/plain": [
       "<Figure size 864x720 with 1 Axes>"
      ]
     },
     "metadata": {
      "needs_background": "light"
     },
     "output_type": "display_data"
    }
   ],
   "source": [
    "fi[:30].plot(x='cols',y='imp',kind='barh',figsize=(12,10))"
   ]
  },
  {
   "cell_type": "markdown",
   "metadata": {},
   "source": [
    "Try delete some columns"
   ]
  },
  {
   "cell_type": "code",
   "execution_count": 90,
   "metadata": {
    "ExecuteTime": {
     "end_time": "2018-10-04T13:55:35.720263Z",
     "start_time": "2018-10-04T13:55:35.702448Z"
    }
   },
   "outputs": [],
   "source": [
    "to_keep = fi[fi.imp>0.005].cols\n",
    "df_keep = df_trn[to_keep].copy()\n",
    "X_train, X_valid = split_vals(df_keep, n_trn)"
   ]
  },
  {
   "cell_type": "code",
   "execution_count": 91,
   "metadata": {
    "ExecuteTime": {
     "end_time": "2018-10-04T13:55:40.119147Z",
     "start_time": "2018-10-04T13:55:37.775904Z"
    }
   },
   "outputs": [
    {
     "name": "stdout",
     "output_type": "stream",
     "text": [
      "{'r2_oob': 0.1801558702761199,\n",
      " 'r2_train': 0.8822667436115106,\n",
      " 'r2_valid': 0.2524974683078557,\n",
      " 'rmse_train': 0.6855623063018954,\n",
      " 'rmse_valid': 2.002804677556383}\n"
     ]
    }
   ],
   "source": [
    "base_model()"
   ]
  },
  {
   "cell_type": "markdown",
   "metadata": {},
   "source": [
    "So It's worth to removing"
   ]
  },
  {
   "cell_type": "code",
   "execution_count": 29,
   "metadata": {
    "ExecuteTime": {
     "end_time": "2018-10-04T10:05:35.275015Z",
     "start_time": "2018-10-04T10:05:34.531105Z"
    },
    "scrolled": false
   },
   "outputs": [
    {
     "data": {
      "text/plain": [
       "<matplotlib.axes._subplots.AxesSubplot at 0x13590f860>"
      ]
     },
     "execution_count": 29,
     "metadata": {},
     "output_type": "execute_result"
    },
    {
     "data": {
      "image/png": "[encoded data removed]",
      "text/plain": [
       "<Figure size 864x720 with 1 Axes>"
      ]
     },
     "metadata": {
      "needs_background": "light"
     },
     "output_type": "display_data"
    }
   ],
   "source": [
    "fi = rf_feat_importance(m, df_keep)\n",
    "fi.plot(x='cols',y='imp',kind='barh',figsize=(12,10))"
   ]
  },
  {
   "cell_type": "markdown",
   "metadata": {
    "heading_collapsed": true
   },
   "source": [
    "## One-hot encoding"
   ]
  },
  {
   "cell_type": "code",
   "execution_count": 228,
   "metadata": {
    "ExecuteTime": {
     "end_time": "2018-10-04T09:09:46.973150Z",
     "start_time": "2018-10-04T09:09:41.914078Z"
    },
    "hidden": true
   },
   "outputs": [
    {
     "name": "stderr",
     "output_type": "stream",
     "text": [
      "/Users/macbook/miniconda3/envs/dev/lib/python3.6/site-packages/sklearn/ensemble/forest.py:732: UserWarning: Some inputs do not have OOB scores. This probably means too few trees were used to compute any reliable oob estimates.\n",
      "  warn(\"Some inputs do not have OOB scores. \"\n"
     ]
    },
    {
     "name": "stdout",
     "output_type": "stream",
     "text": [
      "{'r2_oob': 0.14143400023163688,\n",
      " 'r2_train': 0.8774446657121954,\n",
      " 'r2_valid': 0.183925242213556,\n",
      " 'rmse_train': 0.6994609322713263,\n",
      " 'rmse_valid': 2.0926530727684094}\n"
     ]
    }
   ],
   "source": [
    "df_trn2, y_trn, nas = proc_df(df_raw, 'Revenue', max_n_cat=7)\n",
    "X_train, X_valid = split_vals(df_trn2, n_trn)\n",
    "\n",
    "base_model()"
   ]
  },
  {
   "cell_type": "markdown",
   "metadata": {
    "hidden": true
   },
   "source": [
    "Worse than feature important"
   ]
  },
  {
   "cell_type": "code",
   "execution_count": 229,
   "metadata": {
    "ExecuteTime": {
     "end_time": "2018-10-04T09:10:05.683279Z",
     "start_time": "2018-10-04T09:10:05.052472Z"
    },
    "hidden": true
   },
   "outputs": [
    {
     "data": {
      "text/plain": [
       "<matplotlib.axes._subplots.AxesSubplot at 0x13a0fc358>"
      ]
     },
     "execution_count": 229,
     "metadata": {},
     "output_type": "execute_result"
    },
    {
     "data": {
      "image/png": "[encoded data removed]",
      "text/plain": [
       "<Figure size 864x720 with 1 Axes>"
      ]
     },
     "metadata": {
      "needs_background": "light"
     },
     "output_type": "display_data"
    }
   ],
   "source": [
    "fi = rf_feat_importance(m, df_trn2)\n",
    "fi[:30].plot(x='cols',y='imp',kind='barh',figsize=(12,10))"
   ]
  },
  {
   "cell_type": "code",
   "execution_count": 230,
   "metadata": {
    "ExecuteTime": {
     "end_time": "2018-10-04T09:10:07.274695Z",
     "start_time": "2018-10-04T09:10:07.236976Z"
    },
    "hidden": true
   },
   "outputs": [],
   "source": [
    "to_keep = fi[fi.imp>0.005].cols; len(to_keep),len(fi.cols)\n",
    "df_keep = df_trn2[to_keep].copy()\n",
    "X_train, X_valid = split_vals(df_keep, n_trn)"
   ]
  },
  {
   "cell_type": "code",
   "execution_count": 231,
   "metadata": {
    "ExecuteTime": {
     "end_time": "2018-10-04T09:10:15.444046Z",
     "start_time": "2018-10-04T09:10:12.987652Z"
    },
    "hidden": true
   },
   "outputs": [
    {
     "name": "stderr",
     "output_type": "stream",
     "text": [
      "/Users/macbook/miniconda3/envs/dev/lib/python3.6/site-packages/sklearn/ensemble/forest.py:732: UserWarning: Some inputs do not have OOB scores. This probably means too few trees were used to compute any reliable oob estimates.\n",
      "  warn(\"Some inputs do not have OOB scores. \"\n"
     ]
    },
    {
     "name": "stdout",
     "output_type": "stream",
     "text": [
      "{'r2_oob': 0.1460282896213667,\n",
      " 'r2_train': 0.8762962325134988,\n",
      " 'r2_valid': 0.18323428457197233,\n",
      " 'rmse_train': 0.7027305210090594,\n",
      " 'rmse_valid': 2.0935387935219323}\n"
     ]
    }
   ],
   "source": [
    "base_model()"
   ]
  },
  {
   "cell_type": "markdown",
   "metadata": {
    "hidden": true
   },
   "source": [
    "Totally worse, not use"
   ]
  },
  {
   "cell_type": "markdown",
   "metadata": {},
   "source": [
    "# Removing redundant features"
   ]
  },
  {
   "cell_type": "code",
   "execution_count": 45,
   "metadata": {
    "ExecuteTime": {
     "end_time": "2018-10-04T13:47:23.699894Z",
     "start_time": "2018-10-04T13:47:23.695935Z"
    }
   },
   "outputs": [],
   "source": [
    "from scipy.cluster import hierarchy as hc"
   ]
  },
  {
   "cell_type": "code",
   "execution_count": 46,
   "metadata": {
    "ExecuteTime": {
     "end_time": "2018-10-04T13:47:26.217081Z",
     "start_time": "2018-10-04T13:47:24.301924Z"
    }
   },
   "outputs": [
    {
     "data": {
      "image/png": "[encoded data removed]",
      "text/plain": [
       "<Figure size 1152x720 with 1 Axes>"
      ]
     },
     "metadata": {
      "needs_background": "light"
     },
     "output_type": "display_data"
    }
   ],
   "source": [
    "corr = np.round(scipy.stats.spearmanr(df_keep).correlation, 4)\n",
    "corr_condensed = hc.distance.squareform(1-corr)\n",
    "z = hc.linkage(corr_condensed, method='average')\n",
    "fig = plt.figure(figsize=(16,10))\n",
    "dendrogram = hc.dendrogram(z, labels=df_keep.columns, orientation='left', leaf_font_size=16)\n",
    "plt.show()"
   ]
  },
  {
   "cell_type": "code",
   "execution_count": 48,
   "metadata": {
    "ExecuteTime": {
     "end_time": "2018-10-04T13:47:51.234524Z",
     "start_time": "2018-10-04T13:47:51.228699Z"
    }
   },
   "outputs": [],
   "source": [
    "def get_oob(df):\n",
    "    X_train, _ = split_vals(df, n_trn)\n",
    "    base_model()\n",
    "    "
   ]
  },
  {
   "cell_type": "code",
   "execution_count": 49,
   "metadata": {
    "ExecuteTime": {
     "end_time": "2018-10-04T13:47:54.600138Z",
     "start_time": "2018-10-04T13:47:51.915025Z"
    }
   },
   "outputs": [
    {
     "name": "stderr",
     "output_type": "stream",
     "text": [
      "/Users/macbook/miniconda3/envs/dev/lib/python3.6/site-packages/sklearn/ensemble/forest.py:732: UserWarning: Some inputs do not have OOB scores. This probably means too few trees were used to compute any reliable oob estimates.\n",
      "  warn(\"Some inputs do not have OOB scores. \"\n"
     ]
    },
    {
     "name": "stdout",
     "output_type": "stream",
     "text": [
      "{'r2_oob': 0.17242980721372558,\n",
      " 'r2_train': 0.880205127054056,\n",
      " 'r2_valid': 0.24023042085932012,\n",
      " 'rmse_train': 0.6915386671793516,\n",
      " 'rmse_valid': 2.0191715265128036}\n"
     ]
    }
   ],
   "source": [
    "get_oob(df_keep)"
   ]
  },
  {
   "cell_type": "code",
   "execution_count": 92,
   "metadata": {
    "ExecuteTime": {
     "end_time": "2018-10-04T13:56:05.198635Z",
     "start_time": "2018-10-04T13:55:48.665132Z"
    },
    "scrolled": false
   },
   "outputs": [
    {
     "name": "stdout",
     "output_type": "stream",
     "text": [
      "Week\n",
      "{'r2_oob': 0.14760207092311417,\n",
      " 'r2_train': 0.8767753215319893,\n",
      " 'r2_valid': 0.22196397493855224,\n",
      " 'rmse_train': 0.7013684077699138,\n",
      " 'rmse_valid': 2.0432999118997337}\n",
      "--------------------\n",
      "Dayofyear\n",
      "{'r2_oob': 0.1649493589638963,\n",
      " 'r2_train': 0.8771602426195634,\n",
      " 'r2_valid': 0.2584230632463349,\n",
      " 'rmse_train': 0.70027210687725,\n",
      " 'rmse_valid': 1.9948505757048036}\n",
      "--------------------\n",
      "sessionId\n",
      "{'r2_oob': 0.17540360703462865,\n",
      " 'r2_train': 0.8823289058723516,\n",
      " 'r2_valid': 0.24144149902490877,\n",
      " 'rmse_train': 0.6853812965730205,\n",
      " 'rmse_valid': 2.017561597740256}\n",
      "--------------------\n",
      "fullVisitorId\n",
      "{'r2_oob': 0.17524918344309381,\n",
      " 'r2_train': 0.8812155600050273,\n",
      " 'r2_valid': 0.2538454195224047,\n",
      " 'rmse_train': 0.6886160331440849,\n",
      " 'rmse_valid': 2.0009980608239077}\n",
      "--------------------\n",
      "visitId\n",
      "{'r2_oob': 0.16953853060879986,\n",
      " 'r2_train': 0.8811752380897938,\n",
      " 'r2_valid': 0.25798427957433134,\n",
      " 'rmse_train': 0.6887329001401638,\n",
      " 'rmse_valid': 1.9954406550194985}\n",
      "--------------------\n",
      "visitStartTime\n",
      "{'r2_oob': 0.16689742604569158,\n",
      " 'r2_train': 0.8818152269472725,\n",
      " 'r2_valid': 0.24984721423599,\n",
      " 'rmse_train': 0.6868756420678092,\n",
      " 'rmse_valid': 2.006351986462504}\n",
      "--------------------\n",
      "Elapsed\n",
      "{'r2_oob': 0.1627094879148504,\n",
      " 'r2_train': 0.881112986260835,\n",
      " 'r2_valid': 0.2366179935472167,\n",
      " 'rmse_train': 0.6889132887560687,\n",
      " 'rmse_valid': 2.0239660463989804}\n",
      "--------------------\n"
     ]
    }
   ],
   "source": [
    "to_drop = ['Week','Dayofyear','sessionId','fullVisitorId','visitId','visitStartTime','Elapsed']\n",
    "\n",
    "for c in to_drop:\n",
    "    print(c)\n",
    "    c, get_oob(df_keep.drop(c, axis=1))\n",
    "    print('-'*20)"
   ]
  },
  {
   "cell_type": "markdown",
   "metadata": {},
   "source": [
    "Reset to full data"
   ]
  },
  {
   "cell_type": "code",
   "execution_count": 100,
   "metadata": {
    "ExecuteTime": {
     "end_time": "2018-10-04T13:57:00.456604Z",
     "start_time": "2018-10-04T13:56:58.116228Z"
    },
    "scrolled": true
   },
   "outputs": [
    {
     "name": "stdout",
     "output_type": "stream",
     "text": [
      "{'r2_oob': 0.16616145285781336,\n",
      " 'r2_train': 0.8807271939749435,\n",
      " 'r2_valid': 0.2321506555192252,\n",
      " 'rmse_train': 0.6900301566085407,\n",
      " 'rmse_valid': 2.0298795673033494}\n"
     ]
    }
   ],
   "source": [
    "to_drop = ['sessionId']\n",
    "get_oob(df_keep.drop(to_drop, axis=1))"
   ]
  },
  {
   "cell_type": "code",
   "execution_count": 101,
   "metadata": {
    "ExecuteTime": {
     "end_time": "2018-10-04T13:57:18.807794Z",
     "start_time": "2018-10-04T13:57:18.803586Z"
    }
   },
   "outputs": [],
   "source": [
    "np.save('../data/keep_cols.npy', np.array(df_keep.columns))"
   ]
  },
  {
   "cell_type": "code",
   "execution_count": 102,
   "metadata": {
    "ExecuteTime": {
     "end_time": "2018-10-04T13:57:19.476881Z",
     "start_time": "2018-10-04T13:57:19.466772Z"
    }
   },
   "outputs": [],
   "source": [
    "keep_cols = np.load('../data/keep_cols.npy')\n",
    "df_trn = df_trn[keep_cols]"
   ]
  },
  {
   "cell_type": "markdown",
   "metadata": {},
   "source": [
    "# Tree interpreter"
   ]
  },
  {
   "cell_type": "code",
   "execution_count": 148,
   "metadata": {
    "ExecuteTime": {
     "end_time": "2018-10-04T14:09:56.656368Z",
     "start_time": "2018-10-04T14:09:56.648670Z"
    }
   },
   "outputs": [],
   "source": [
    "from treeinterpreter import treeinterpreter as ti"
   ]
  },
  {
   "cell_type": "code",
   "execution_count": 153,
   "metadata": {
    "ExecuteTime": {
     "end_time": "2018-10-04T14:10:48.839591Z",
     "start_time": "2018-10-04T14:10:48.661813Z"
    }
   },
   "outputs": [],
   "source": [
    "split_data(to_keep=to_keep)"
   ]
  },
  {
   "cell_type": "code",
   "execution_count": 154,
   "metadata": {
    "ExecuteTime": {
     "end_time": "2018-10-04T14:10:52.951974Z",
     "start_time": "2018-10-04T14:10:52.944783Z"
    }
   },
   "outputs": [
    {
     "data": {
      "text/plain": [
       "array([[        10,         13, 1481325313,      63793,        176,      56931, 1481325313,          1,\n",
       "                 1,        168,          9,         37,          1,          7,          4,         47,\n",
       "               143,        344,         49,          0,          0,          6, 1481241600,         12,\n",
       "                 7,          7,         52]])"
      ]
     },
     "execution_count": 154,
     "metadata": {},
     "output_type": "execute_result"
    }
   ],
   "source": [
    "row = X_valid.values[None,0]; row"
   ]
  },
  {
   "cell_type": "code",
   "execution_count": 155,
   "metadata": {
    "ExecuteTime": {
     "end_time": "2018-10-04T14:10:55.940061Z",
     "start_time": "2018-10-04T14:10:55.824662Z"
    }
   },
   "outputs": [],
   "source": [
    "prediction, bias, contributions = ti.predict(m, row)"
   ]
  },
  {
   "cell_type": "code",
   "execution_count": 156,
   "metadata": {
    "ExecuteTime": {
     "end_time": "2018-10-04T14:10:58.770553Z",
     "start_time": "2018-10-04T14:10:58.765303Z"
    }
   },
   "outputs": [
    {
     "data": {
      "text/plain": [
       "(0.0, 0.2241080349644918)"
      ]
     },
     "execution_count": 156,
     "metadata": {},
     "output_type": "execute_result"
    }
   ],
   "source": [
    "prediction[0], bias[0]"
   ]
  },
  {
   "cell_type": "code",
   "execution_count": 157,
   "metadata": {
    "ExecuteTime": {
     "end_time": "2018-10-04T14:11:04.168286Z",
     "start_time": "2018-10-04T14:11:04.164949Z"
    }
   },
   "outputs": [],
   "source": [
    "idxs = np.argsort(contributions[0])"
   ]
  },
  {
   "cell_type": "code",
   "execution_count": 169,
   "metadata": {
    "ExecuteTime": {
     "end_time": "2018-10-04T14:13:51.038586Z",
     "start_time": "2018-10-04T14:13:51.030469Z"
    },
    "scrolled": false
   },
   "outputs": [
    {
     "data": {
      "text/plain": [
       "[('visitNumber', 1, -0.1188410061415625),\n",
       " ('totals_newVisits', 1, -0.10272838755647958),\n",
       " ('geoNetwork_metro', 47, -0.040505980738313165),\n",
       " ('geoNetwork_city', 168, -0.024224704790433114),\n",
       " ('trafficSource_isTrueDirect', 0, -0.015451839333515896),\n",
       " ('visitStartTime', 1481325313, -0.013641331298145867),\n",
       " ('geoNetwork_region', 37, -0.01341846831009288),\n",
       " ('Dayofyear', 344, -0.008907937518178576),\n",
       " ('trafficSource_referralPath', 52, -0.008766472141050929),\n",
       " ('Day', 9, -0.008041369396346896),\n",
       " ('Dayofweek', 4, -0.008041005648257315),\n",
       " ('sessionId', 63793, -0.0025880439489683457),\n",
       " ('device_operatingSystem', 7, -0.002428901903688081),\n",
       " ('visitId', 1481325313, -0.0022529620116577428),\n",
       " ('Month', 12, -0.0016157311467578106),\n",
       " ('fullVisitorId', 56931, -0.0013448750094311901),\n",
       " ('device_browser', 6, -0.0008611380264629917),\n",
       " ('channelGrouping', 7, 0.0),\n",
       " ('trafficSource_source', 143, 0.0),\n",
       " ('totals_hits', 13, 0.0),\n",
       " ('trafficSource_keyword', 0, 0.0),\n",
       " ('Elapsed', 1481241600, 0.0),\n",
       " ('trafficSource_medium', 7, 0.0),\n",
       " ('geoNetwork_networkDomain', 1, 0.0),\n",
       " ('Week', 49, 0.0009498888030753385),\n",
       " ('geoNetwork_country', 176, 0.013326328044213737),\n",
       " ('totals_pageviews', 10, 0.135275903107562)]"
      ]
     },
     "execution_count": 169,
     "metadata": {},
     "output_type": "execute_result"
    }
   ],
   "source": [
    "[o for o in zip(X_valid.columns[idxs], X_valid.iloc[0][idxs], contributions[0][idxs])]"
   ]
  },
  {
   "cell_type": "code",
   "execution_count": 176,
   "metadata": {
    "ExecuteTime": {
     "end_time": "2018-10-04T14:14:26.121856Z",
     "start_time": "2018-10-04T14:14:26.116853Z"
    }
   },
   "outputs": [
    {
     "data": {
      "text/plain": [
       "-0.22410803496449178"
      ]
     },
     "execution_count": 176,
     "metadata": {},
     "output_type": "execute_result"
    }
   ],
   "source": [
    "contributions[0].sum()"
   ]
  },
  {
   "cell_type": "markdown",
   "metadata": {},
   "source": [
    "# Extrapolation"
   ]
  },
  {
   "cell_type": "code",
   "execution_count": 199,
   "metadata": {
    "ExecuteTime": {
     "end_time": "2018-10-04T14:19:00.803998Z",
     "start_time": "2018-10-04T14:19:00.614126Z"
    }
   },
   "outputs": [],
   "source": [
    "df_ext = df_keep.copy()\n",
    "df_ext['is_valid'] = 1\n",
    "df_ext.is_valid[:n_trn] = 0\n",
    "x, y, nas = proc_df(df_ext, 'is_valid')"
   ]
  },
  {
   "cell_type": "code",
   "execution_count": 200,
   "metadata": {
    "ExecuteTime": {
     "end_time": "2018-10-04T14:19:02.869095Z",
     "start_time": "2018-10-04T14:19:00.848469Z"
    }
   },
   "outputs": [
    {
     "data": {
      "text/plain": [
       "0.9995961214058343"
      ]
     },
     "execution_count": 200,
     "metadata": {},
     "output_type": "execute_result"
    }
   ],
   "source": [
    "m = RFF(n_estimators=40, min_samples_leaf=3, max_features=0.5, n_jobs=-1, oob_score=True)\n",
    "m.fit(x, y);\n",
    "m.oob_score_"
   ]
  },
  {
   "cell_type": "code",
   "execution_count": 201,
   "metadata": {
    "ExecuteTime": {
     "end_time": "2018-10-04T14:19:02.988795Z",
     "start_time": "2018-10-04T14:19:02.871230Z"
    }
   },
   "outputs": [
    {
     "data": {
      "text/html": [
       "<div>\n",
       "<style scoped>\n",
       "    .dataframe tbody tr th:only-of-type {\n",
       "        vertical-align: middle;\n",
       "    }\n",
       "\n",
       "    .dataframe tbody tr th {\n",
       "        vertical-align: top;\n",
       "    }\n",
       "\n",
       "    .dataframe thead th {\n",
       "        text-align: right;\n",
       "    }\n",
       "</style>\n",
       "<table border=\"1\" class=\"dataframe\">\n",
       "  <thead>\n",
       "    <tr style=\"text-align: right;\">\n",
       "      <th></th>\n",
       "      <th>cols</th>\n",
       "      <th>imp</th>\n",
       "    </tr>\n",
       "  </thead>\n",
       "  <tbody>\n",
       "    <tr>\n",
       "      <th>10</th>\n",
       "      <td>Day</td>\n",
       "      <td>0.297363</td>\n",
       "    </tr>\n",
       "    <tr>\n",
       "      <th>17</th>\n",
       "      <td>Dayofyear</td>\n",
       "      <td>0.150790</td>\n",
       "    </tr>\n",
       "    <tr>\n",
       "      <th>6</th>\n",
       "      <td>visitId</td>\n",
       "      <td>0.134787</td>\n",
       "    </tr>\n",
       "    <tr>\n",
       "      <th>18</th>\n",
       "      <td>Week</td>\n",
       "      <td>0.130045</td>\n",
       "    </tr>\n",
       "    <tr>\n",
       "      <th>22</th>\n",
       "      <td>Elapsed</td>\n",
       "      <td>0.090825</td>\n",
       "    </tr>\n",
       "    <tr>\n",
       "      <th>2</th>\n",
       "      <td>visitStartTime</td>\n",
       "      <td>0.085950</td>\n",
       "    </tr>\n",
       "    <tr>\n",
       "      <th>14</th>\n",
       "      <td>Dayofweek</td>\n",
       "      <td>0.077444</td>\n",
       "    </tr>\n",
       "    <tr>\n",
       "      <th>23</th>\n",
       "      <td>Month</td>\n",
       "      <td>0.017291</td>\n",
       "    </tr>\n",
       "    <tr>\n",
       "      <th>1</th>\n",
       "      <td>totals_hits</td>\n",
       "      <td>0.004806</td>\n",
       "    </tr>\n",
       "    <tr>\n",
       "      <th>25</th>\n",
       "      <td>channelGrouping</td>\n",
       "      <td>0.004290</td>\n",
       "    </tr>\n",
       "  </tbody>\n",
       "</table>\n",
       "</div>"
      ],
      "text/plain": [
       "               cols       imp\n",
       "10              Day  0.297363\n",
       "17        Dayofyear  0.150790\n",
       "6           visitId  0.134787\n",
       "18             Week  0.130045\n",
       "22          Elapsed  0.090825\n",
       "2    visitStartTime  0.085950\n",
       "14        Dayofweek  0.077444\n",
       "23            Month  0.017291\n",
       "1       totals_hits  0.004806\n",
       "25  channelGrouping  0.004290"
      ]
     },
     "execution_count": 201,
     "metadata": {},
     "output_type": "execute_result"
    }
   ],
   "source": [
    "fi = rf_feat_importance(m, x); fi[:10]"
   ]
  },
  {
   "cell_type": "code",
   "execution_count": 202,
   "metadata": {
    "ExecuteTime": {
     "end_time": "2018-10-04T14:19:02.995873Z",
     "start_time": "2018-10-04T14:19:02.991084Z"
    }
   },
   "outputs": [],
   "source": [
    "feats=['Day','Dayofyear','Week','visitStartTime']"
   ]
  },
  {
   "cell_type": "code",
   "execution_count": 203,
   "metadata": {
    "ExecuteTime": {
     "end_time": "2018-10-04T14:19:03.037141Z",
     "start_time": "2018-10-04T14:19:02.998351Z"
    },
    "scrolled": false
   },
   "outputs": [
    {
     "data": {
      "text/html": [
       "<div>\n",
       "<style scoped>\n",
       "    .dataframe tbody tr th:only-of-type {\n",
       "        vertical-align: middle;\n",
       "    }\n",
       "\n",
       "    .dataframe tbody tr th {\n",
       "        vertical-align: top;\n",
       "    }\n",
       "\n",
       "    .dataframe thead th {\n",
       "        text-align: right;\n",
       "    }\n",
       "</style>\n",
       "<table border=\"1\" class=\"dataframe\">\n",
       "  <thead>\n",
       "    <tr style=\"text-align: right;\">\n",
       "      <th></th>\n",
       "      <th>Day</th>\n",
       "      <th>Dayofyear</th>\n",
       "      <th>Week</th>\n",
       "      <th>visitStartTime</th>\n",
       "    </tr>\n",
       "  </thead>\n",
       "  <tbody>\n",
       "    <tr>\n",
       "      <th>count</th>\n",
       "      <td>70000.000000</td>\n",
       "      <td>70000.000000</td>\n",
       "      <td>70000.000000</td>\n",
       "      <td>7.000000e+04</td>\n",
       "    </tr>\n",
       "    <tr>\n",
       "      <th>mean</th>\n",
       "      <td>0.015741</td>\n",
       "      <td>0.198955</td>\n",
       "      <td>0.028602</td>\n",
       "      <td>1.486267e+06</td>\n",
       "    </tr>\n",
       "    <tr>\n",
       "      <th>std</th>\n",
       "      <td>0.008610</td>\n",
       "      <td>0.105690</td>\n",
       "      <td>0.014961</td>\n",
       "      <td>9.185771e+03</td>\n",
       "    </tr>\n",
       "    <tr>\n",
       "      <th>min</th>\n",
       "      <td>0.001000</td>\n",
       "      <td>0.011000</td>\n",
       "      <td>0.002000</td>\n",
       "      <td>1.470899e+06</td>\n",
       "    </tr>\n",
       "    <tr>\n",
       "      <th>25%</th>\n",
       "      <td>0.011000</td>\n",
       "      <td>0.121000</td>\n",
       "      <td>0.018000</td>\n",
       "      <td>1.478989e+06</td>\n",
       "    </tr>\n",
       "    <tr>\n",
       "      <th>50%</th>\n",
       "      <td>0.014000</td>\n",
       "      <td>0.181000</td>\n",
       "      <td>0.026000</td>\n",
       "      <td>1.484351e+06</td>\n",
       "    </tr>\n",
       "    <tr>\n",
       "      <th>75%</th>\n",
       "      <td>0.023000</td>\n",
       "      <td>0.315000</td>\n",
       "      <td>0.045000</td>\n",
       "      <td>1.495220e+06</td>\n",
       "    </tr>\n",
       "    <tr>\n",
       "      <th>max</th>\n",
       "      <td>0.031000</td>\n",
       "      <td>0.348000</td>\n",
       "      <td>0.050000</td>\n",
       "      <td>1.501657e+06</td>\n",
       "    </tr>\n",
       "  </tbody>\n",
       "</table>\n",
       "</div>"
      ],
      "text/plain": [
       "                Day     Dayofyear          Week  visitStartTime\n",
       "count  70000.000000  70000.000000  70000.000000    7.000000e+04\n",
       "mean       0.015741      0.198955      0.028602    1.486267e+06\n",
       "std        0.008610      0.105690      0.014961    9.185771e+03\n",
       "min        0.001000      0.011000      0.002000    1.470899e+06\n",
       "25%        0.011000      0.121000      0.018000    1.478989e+06\n",
       "50%        0.014000      0.181000      0.026000    1.484351e+06\n",
       "75%        0.023000      0.315000      0.045000    1.495220e+06\n",
       "max        0.031000      0.348000      0.050000    1.501657e+06"
      ]
     },
     "execution_count": 203,
     "metadata": {},
     "output_type": "execute_result"
    }
   ],
   "source": [
    "(X_train[feats]/1000).describe()"
   ]
  },
  {
   "cell_type": "code",
   "execution_count": 204,
   "metadata": {
    "ExecuteTime": {
     "end_time": "2018-10-04T14:19:03.064767Z",
     "start_time": "2018-10-04T14:19:03.038806Z"
    }
   },
   "outputs": [
    {
     "data": {
      "text/html": [
       "<div>\n",
       "<style scoped>\n",
       "    .dataframe tbody tr th:only-of-type {\n",
       "        vertical-align: middle;\n",
       "    }\n",
       "\n",
       "    .dataframe tbody tr th {\n",
       "        vertical-align: top;\n",
       "    }\n",
       "\n",
       "    .dataframe thead th {\n",
       "        text-align: right;\n",
       "    }\n",
       "</style>\n",
       "<table border=\"1\" class=\"dataframe\">\n",
       "  <thead>\n",
       "    <tr style=\"text-align: right;\">\n",
       "      <th></th>\n",
       "      <th>Day</th>\n",
       "      <th>Dayofyear</th>\n",
       "      <th>Week</th>\n",
       "      <th>visitStartTime</th>\n",
       "    </tr>\n",
       "  </thead>\n",
       "  <tbody>\n",
       "    <tr>\n",
       "      <th>count</th>\n",
       "      <td>30000.000000</td>\n",
       "      <td>30000.000000</td>\n",
       "      <td>30000.000000</td>\n",
       "      <td>3.000000e+04</td>\n",
       "    </tr>\n",
       "    <tr>\n",
       "      <th>mean</th>\n",
       "      <td>0.020471</td>\n",
       "      <td>0.253554</td>\n",
       "      <td>0.036297</td>\n",
       "      <td>1.481076e+06</td>\n",
       "    </tr>\n",
       "    <tr>\n",
       "      <th>std</th>\n",
       "      <td>0.007767</td>\n",
       "      <td>0.091851</td>\n",
       "      <td>0.013106</td>\n",
       "      <td>8.022509e+03</td>\n",
       "    </tr>\n",
       "    <tr>\n",
       "      <th>min</th>\n",
       "      <td>0.003000</td>\n",
       "      <td>0.062000</td>\n",
       "      <td>0.009000</td>\n",
       "      <td>1.471331e+06</td>\n",
       "    </tr>\n",
       "    <tr>\n",
       "      <th>25%</th>\n",
       "      <td>0.016000</td>\n",
       "      <td>0.229000</td>\n",
       "      <td>0.033000</td>\n",
       "      <td>1.474116e+06</td>\n",
       "    </tr>\n",
       "    <tr>\n",
       "      <th>50%</th>\n",
       "      <td>0.018000</td>\n",
       "      <td>0.261000</td>\n",
       "      <td>0.037000</td>\n",
       "      <td>1.480499e+06</td>\n",
       "    </tr>\n",
       "    <tr>\n",
       "      <th>75%</th>\n",
       "      <td>0.029000</td>\n",
       "      <td>0.335000</td>\n",
       "      <td>0.048000</td>\n",
       "      <td>1.481952e+06</td>\n",
       "    </tr>\n",
       "    <tr>\n",
       "      <th>max</th>\n",
       "      <td>0.030000</td>\n",
       "      <td>0.351000</td>\n",
       "      <td>0.050000</td>\n",
       "      <td>1.497769e+06</td>\n",
       "    </tr>\n",
       "  </tbody>\n",
       "</table>\n",
       "</div>"
      ],
      "text/plain": [
       "                Day     Dayofyear          Week  visitStartTime\n",
       "count  30000.000000  30000.000000  30000.000000    3.000000e+04\n",
       "mean       0.020471      0.253554      0.036297    1.481076e+06\n",
       "std        0.007767      0.091851      0.013106    8.022509e+03\n",
       "min        0.003000      0.062000      0.009000    1.471331e+06\n",
       "25%        0.016000      0.229000      0.033000    1.474116e+06\n",
       "50%        0.018000      0.261000      0.037000    1.480499e+06\n",
       "75%        0.029000      0.335000      0.048000    1.481952e+06\n",
       "max        0.030000      0.351000      0.050000    1.497769e+06"
      ]
     },
     "execution_count": 204,
     "metadata": {},
     "output_type": "execute_result"
    }
   ],
   "source": [
    "(X_valid[feats]/1000).describe()"
   ]
  },
  {
   "cell_type": "code",
   "execution_count": 205,
   "metadata": {
    "ExecuteTime": {
     "end_time": "2018-10-04T14:19:04.381294Z",
     "start_time": "2018-10-04T14:19:04.371233Z"
    }
   },
   "outputs": [],
   "source": [
    "x.drop(feats, axis=1, inplace=True)"
   ]
  },
  {
   "cell_type": "code",
   "execution_count": 206,
   "metadata": {
    "ExecuteTime": {
     "end_time": "2018-10-04T14:19:06.713318Z",
     "start_time": "2018-10-04T14:19:04.951267Z"
    }
   },
   "outputs": [
    {
     "data": {
      "text/plain": [
       "0.9995872144890746"
      ]
     },
     "execution_count": 206,
     "metadata": {},
     "output_type": "execute_result"
    }
   ],
   "source": [
    "m = RFF(n_estimators=40, min_samples_leaf=3, max_features=0.5, n_jobs=-1, oob_score=True)\n",
    "m.fit(x, y);\n",
    "m.oob_score_"
   ]
  },
  {
   "cell_type": "code",
   "execution_count": 207,
   "metadata": {
    "ExecuteTime": {
     "end_time": "2018-10-04T14:19:06.831021Z",
     "start_time": "2018-10-04T14:19:06.715346Z"
    }
   },
   "outputs": [
    {
     "data": {
      "text/html": [
       "<div>\n",
       "<style scoped>\n",
       "    .dataframe tbody tr th:only-of-type {\n",
       "        vertical-align: middle;\n",
       "    }\n",
       "\n",
       "    .dataframe tbody tr th {\n",
       "        vertical-align: top;\n",
       "    }\n",
       "\n",
       "    .dataframe thead th {\n",
       "        text-align: right;\n",
       "    }\n",
       "</style>\n",
       "<table border=\"1\" class=\"dataframe\">\n",
       "  <thead>\n",
       "    <tr style=\"text-align: right;\">\n",
       "      <th></th>\n",
       "      <th>cols</th>\n",
       "      <th>imp</th>\n",
       "    </tr>\n",
       "  </thead>\n",
       "  <tbody>\n",
       "    <tr>\n",
       "      <th>5</th>\n",
       "      <td>visitId</td>\n",
       "      <td>0.357696</td>\n",
       "    </tr>\n",
       "    <tr>\n",
       "      <th>18</th>\n",
       "      <td>Elapsed</td>\n",
       "      <td>0.326516</td>\n",
       "    </tr>\n",
       "    <tr>\n",
       "      <th>12</th>\n",
       "      <td>Dayofweek</td>\n",
       "      <td>0.168555</td>\n",
       "    </tr>\n",
       "    <tr>\n",
       "      <th>19</th>\n",
       "      <td>Month</td>\n",
       "      <td>0.128967</td>\n",
       "    </tr>\n",
       "    <tr>\n",
       "      <th>1</th>\n",
       "      <td>totals_hits</td>\n",
       "      <td>0.005864</td>\n",
       "    </tr>\n",
       "    <tr>\n",
       "      <th>21</th>\n",
       "      <td>channelGrouping</td>\n",
       "      <td>0.005203</td>\n",
       "    </tr>\n",
       "    <tr>\n",
       "      <th>22</th>\n",
       "      <td>trafficSource_referralPath</td>\n",
       "      <td>0.003016</td>\n",
       "    </tr>\n",
       "    <tr>\n",
       "      <th>0</th>\n",
       "      <td>totals_pageviews</td>\n",
       "      <td>0.002228</td>\n",
       "    </tr>\n",
       "    <tr>\n",
       "      <th>14</th>\n",
       "      <td>trafficSource_source</td>\n",
       "      <td>0.001263</td>\n",
       "    </tr>\n",
       "    <tr>\n",
       "      <th>8</th>\n",
       "      <td>geoNetwork_city</td>\n",
       "      <td>0.000135</td>\n",
       "    </tr>\n",
       "  </tbody>\n",
       "</table>\n",
       "</div>"
      ],
      "text/plain": [
       "                          cols       imp\n",
       "5                      visitId  0.357696\n",
       "18                     Elapsed  0.326516\n",
       "12                   Dayofweek  0.168555\n",
       "19                       Month  0.128967\n",
       "1                  totals_hits  0.005864\n",
       "21             channelGrouping  0.005203\n",
       "22  trafficSource_referralPath  0.003016\n",
       "0             totals_pageviews  0.002228\n",
       "14        trafficSource_source  0.001263\n",
       "8              geoNetwork_city  0.000135"
      ]
     },
     "execution_count": 207,
     "metadata": {},
     "output_type": "execute_result"
    }
   ],
   "source": [
    "fi = rf_feat_importance(m, x); fi[:10]"
   ]
  },
  {
   "cell_type": "code",
   "execution_count": 220,
   "metadata": {
    "ExecuteTime": {
     "end_time": "2018-10-04T14:21:21.097207Z",
     "start_time": "2018-10-04T14:21:21.093315Z"
    }
   },
   "outputs": [],
   "source": [
    "feats=['visitId', 'Elapsed', 'Dayofweek','Day','Dayofyear','Week','visitStartTime',['Day','Dayofyear','Week','visitStartTime']]"
   ]
  },
  {
   "cell_type": "code",
   "execution_count": 221,
   "metadata": {
    "ExecuteTime": {
     "end_time": "2018-10-04T14:21:23.423583Z",
     "start_time": "2018-10-04T14:21:21.100077Z"
    },
    "scrolled": true
   },
   "outputs": [
    {
     "name": "stdout",
     "output_type": "stream",
     "text": [
      "{'r2_oob': 0.15816000454939705,\n",
      " 'r2_train': 0.8801366787858633,\n",
      " 'r2_valid': 0.25771713051036804,\n",
      " 'rmse_train': 0.6917362042834944,\n",
      " 'rmse_valid': 1.9957998334814453}\n"
     ]
    }
   ],
   "source": [
    "X_train, X_valid = split_vals(df_keep, n_trn)\n",
    "base_model()"
   ]
  },
  {
   "cell_type": "code",
   "execution_count": 222,
   "metadata": {
    "ExecuteTime": {
     "end_time": "2018-10-04T14:21:41.487178Z",
     "start_time": "2018-10-04T14:21:23.426532Z"
    },
    "scrolled": false
   },
   "outputs": [
    {
     "name": "stdout",
     "output_type": "stream",
     "text": [
      "visitId\n",
      "{'r2_oob': 0.19201498248749405,\n",
      " 'r2_train': 0.881681842656715,\n",
      " 'r2_valid': 0.24083481245019547,\n",
      " 'rmse_train': 0.6872631394674626,\n",
      " 'rmse_valid': 2.018368248045001}\n",
      "--------------------\n",
      "Elapsed\n",
      "{'r2_oob': 0.17421577932379773,\n",
      " 'r2_train': 0.8828518500580578,\n",
      " 'r2_valid': 0.23878150217718275,\n",
      " 'rmse_train': 0.683856643195282,\n",
      " 'rmse_valid': 2.0210959401324824}\n",
      "--------------------\n",
      "Dayofweek\n",
      "{'r2_oob': 0.16623977669397638,\n",
      " 'r2_train': 0.8808370537560746,\n",
      " 'r2_valid': 0.24462557828323062,\n",
      " 'rmse_train': 0.6897122969533342,\n",
      " 'rmse_valid': 2.013322747644048}\n",
      "--------------------\n",
      "Day\n",
      "{'r2_oob': 0.15933157908383622,\n",
      " 'r2_train': 0.8823044940186869,\n",
      " 'r2_valid': 0.2472796428242401,\n",
      " 'rmse_train': 0.6854523869302646,\n",
      " 'rmse_valid': 2.009782655266682}\n",
      "--------------------\n",
      "Dayofyear\n",
      "{'r2_oob': 0.16675394362788876,\n",
      " 'r2_train': 0.8839213540990561,\n",
      " 'r2_valid': 0.24904167156150026,\n",
      " 'rmse_train': 0.6807278511151353,\n",
      " 'rmse_valid': 2.0074289460657564}\n",
      "--------------------\n",
      "Week\n",
      "{'r2_oob': 0.17173520962902555,\n",
      " 'r2_train': 0.8793719421975091,\n",
      " 'r2_valid': 0.2489711248159777,\n",
      " 'rmse_train': 0.693939359103521,\n",
      " 'rmse_valid': 2.007523235088087}\n",
      "--------------------\n",
      "visitStartTime\n",
      "{'r2_oob': 0.17169576585327428,\n",
      " 'r2_train': 0.8811423079008021,\n",
      " 'r2_valid': 0.23956013878385696,\n",
      " 'rmse_train': 0.6888283286227114,\n",
      " 'rmse_valid': 2.0200620044608195}\n",
      "--------------------\n",
      "['Day', 'Dayofyear', 'Week', 'visitStartTime']\n",
      "{'r2_oob': 0.17598513139877026,\n",
      " 'r2_train': 0.8800386931413766,\n",
      " 'r2_valid': 0.23508174230960766,\n",
      " 'rmse_train': 0.6920188861354262,\n",
      " 'rmse_valid': 2.02600156568599}\n",
      "--------------------\n"
     ]
    }
   ],
   "source": [
    "for f in feats:\n",
    "    df_subs = df_keep.drop(f, axis=1)\n",
    "    X_train, X_valid = split_vals(df_subs, n_trn)\n",
    "    print(f)\n",
    "    base_model()\n",
    "    print('-'*20)"
   ]
  },
  {
   "cell_type": "code",
   "execution_count": 223,
   "metadata": {
    "ExecuteTime": {
     "end_time": "2018-10-04T14:22:37.299841Z",
     "start_time": "2018-10-04T14:22:37.291882Z"
    }
   },
   "outputs": [],
   "source": [
    "df_trn = df_trn.drop(['Day', 'Dayofyear', 'Week', 'visitStartTime'],axis=1)\n",
    "np.save('../data/to_keep.npy', np.array(df_trn.columns))"
   ]
  },
  {
   "cell_type": "markdown",
   "metadata": {},
   "source": [
    "# Final model"
   ]
  },
  {
   "cell_type": "code",
   "execution_count": 227,
   "metadata": {
    "ExecuteTime": {
     "end_time": "2018-10-04T14:23:26.632580Z",
     "start_time": "2018-10-04T14:23:26.627145Z"
    }
   },
   "outputs": [
    {
     "data": {
      "text/plain": [
       "Index(['totals_pageviews', 'totals_hits', 'sessionId', 'geoNetwork_country',\n",
       "       'fullVisitorId', 'visitId', 'geoNetwork_networkDomain', 'visitNumber',\n",
       "       'geoNetwork_city', 'geoNetwork_region', 'totals_newVisits',\n",
       "       'device_operatingSystem', 'Dayofweek', 'geoNetwork_metro',\n",
       "       'trafficSource_source', 'trafficSource_isTrueDirect',\n",
       "       'trafficSource_keyword', 'device_browser', 'Elapsed', 'Month',\n",
       "       'trafficSource_medium', 'channelGrouping',\n",
       "       'trafficSource_referralPath'],\n",
       "      dtype='object')"
      ]
     },
     "execution_count": 227,
     "metadata": {},
     "output_type": "execute_result"
    }
   ],
   "source": [
    "X_train.columns"
   ]
  },
  {
   "cell_type": "code",
   "execution_count": 230,
   "metadata": {
    "ExecuteTime": {
     "end_time": "2018-10-04T14:23:51.970551Z",
     "start_time": "2018-10-04T14:23:45.488557Z"
    }
   },
   "outputs": [
    {
     "name": "stdout",
     "output_type": "stream",
     "text": [
      "CPU times: user 17.6 s, sys: 79 ms, total: 17.7 s\n",
      "Wall time: 5.8 s\n",
      "{'r2_oob': 0.28041256222461,\n",
      " 'r2_train': 0.9012726844860759,\n",
      " 'r2_valid': 0.2906379472442142,\n",
      " 'rmse_train': 0.6277923468562588,\n",
      " 'rmse_valid': 1.951040295804374}\n"
     ]
    }
   ],
   "source": [
    "m = RFF(n_estimators=160, max_features=0.5, n_jobs=-1, oob_score=True)\n",
    "%time m.fit(X_train, y_train)\n",
    "print_score(m)"
   ]
  },
  {
   "cell_type": "code",
   "execution_count": 236,
   "metadata": {
    "ExecuteTime": {
     "end_time": "2018-10-04T14:55:43.211359Z",
     "start_time": "2018-10-04T14:55:43.208151Z"
    }
   },
   "outputs": [],
   "source": [
    "params = {\n",
    "    'n_estimators' : [20,40,60,80,160],\n",
    "    'max_features': [None,.5,'log2','sqrt'],\n",
    "    'min_samples_leaf' : [1,3,5,7,15]\n",
    "}"
   ]
  },
  {
   "cell_type": "code",
   "execution_count": 242,
   "metadata": {
    "ExecuteTime": {
     "end_time": "2018-10-04T15:33:17.295979Z",
     "start_time": "2018-10-04T14:56:12.022537Z"
    }
   },
   "outputs": [
    {
     "name": "stdout",
     "output_type": "stream",
     "text": [
      "CPU times: user 36min 20s, sys: 13.2 s, total: 36min 33s\n",
      "Wall time: 37min 5s\n"
     ]
    }
   ],
   "source": [
    "%%time\n",
    "grid_search = sklearn.model_selection.GridSearchCV(RFF(n_jobs=-1), param_grid=params, cv=5)\n",
    "grid_search.fit(X_train, y_train)"
   ]
  },
  {
   "cell_type": "code",
   "execution_count": null,
   "metadata": {},
   "outputs": [],
   "source": []
  }
 ],
 "metadata": {
  "kernelspec": {
   "display_name": "Python 3",
   "language": "python",
   "name": "python3"
  },
  "language_info": {
   "codemirror_mode": {
    "name": "ipython",
    "version": 3
   },
   "file_extension": ".py",
   "mimetype": "text/x-python",
   "name": "python",
   "nbconvert_exporter": "python",
   "pygments_lexer": "ipython3",
   "version": "3.6.6"
  },
  "toc": {
   "base_numbering": 1,
   "nav_menu": {},
   "number_sections": true,
   "sideBar": true,
   "skip_h1_title": false,
   "title_cell": "Table of Contents",
   "title_sidebar": "Contents",
   "toc_cell": true,
   "toc_position": {
    "height": "634px",
    "left": "1181px",
    "top": "110px",
    "width": "259px"
   },
   "toc_section_display": true,
   "toc_window_display": true
  }
 },
 "nbformat": 4,
 "nbformat_minor": 2
}
